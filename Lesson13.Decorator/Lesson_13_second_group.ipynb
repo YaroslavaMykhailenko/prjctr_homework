{
  "cells": [
    {
      "cell_type": "markdown",
      "metadata": {
        "id": "A385gABE-vrr"
      },
      "source": [
        "# Decorator\n",
        "\n",
        "## Functions"
      ]
    },
    {
      "cell_type": "code",
      "execution_count": null,
      "metadata": {
        "id": "N2G8mm3J-vrw"
      },
      "outputs": [],
      "source": [
        "def increase(value):\n",
        "    return value + 1\n",
        "\n",
        "print(increase(3))"
      ]
    },
    {
      "cell_type": "code",
      "execution_count": null,
      "metadata": {
        "id": "tokkbGN7-vrx"
      },
      "outputs": [],
      "source": [
        "def increase(value):\n",
        "    return value + 1\n",
        "\n",
        "type(increase)"
      ]
    },
    {
      "cell_type": "markdown",
      "metadata": {
        "id": "s2sH_wQd-vry"
      },
      "source": [
        "## First class object"
      ]
    },
    {
      "cell_type": "code",
      "execution_count": null,
      "metadata": {
        "id": "cTRRFiCx-vry"
      },
      "outputs": [],
      "source": [
        "def warning(value):\n",
        "    return f'!!{value}!!'\n",
        "\n",
        "def line(value):\n",
        "    return f'||{value}||'\n",
        "\n",
        "def prettify(func):\n",
        "    return func('Name')"
      ]
    },
    {
      "cell_type": "code",
      "execution_count": null,
      "metadata": {
        "id": "PcXrYFqO-vrz"
      },
      "outputs": [],
      "source": [
        "prettify(warning)"
      ]
    },
    {
      "cell_type": "code",
      "execution_count": null,
      "metadata": {
        "id": "tdaA-SzJ-vrz"
      },
      "outputs": [],
      "source": [
        "prettify(line)"
      ]
    },
    {
      "cell_type": "markdown",
      "metadata": {
        "id": "dJ__8ZLm-vr0"
      },
      "source": [
        "## Inner Functions"
      ]
    },
    {
      "cell_type": "code",
      "execution_count": null,
      "metadata": {
        "id": "1Ss1S_3v-vr1"
      },
      "outputs": [],
      "source": [
        "def main():\n",
        "    print(\"Parent function\")\n",
        "\n",
        "    def first():\n",
        "        print(\"First child function\")\n",
        "\n",
        "    def second():\n",
        "        print(\"Second child function\")\n",
        "\n",
        "    second()\n",
        "    first()\n",
        "    \n",
        "main()"
      ]
    },
    {
      "cell_type": "code",
      "execution_count": null,
      "metadata": {
        "id": "3k2-OY_P-vr1"
      },
      "outputs": [],
      "source": [
        "## Return function\n",
        "\n",
        "def main(value: int):\n",
        "    def first():\n",
        "        return \"First function\"\n",
        "\n",
        "    def second():\n",
        "        return \"Second function\"\n",
        "\n",
        "    if value == 2:\n",
        "        return second\n",
        "\n",
        "    return first"
      ]
    },
    {
      "cell_type": "code",
      "execution_count": null,
      "metadata": {
        "id": "3jJWjo---vr2"
      },
      "outputs": [],
      "source": [
        "obj = main(0)()\n",
        "print(obj)"
      ]
    },
    {
      "cell_type": "code",
      "execution_count": null,
      "metadata": {
        "id": "0bIiAVh--vr2"
      },
      "outputs": [],
      "source": [
        "first = main(1)\n",
        "print(first())\n",
        "second = main(2)\n",
        "print(second())"
      ]
    },
    {
      "cell_type": "markdown",
      "metadata": {
        "id": "lNZnCAeI-vr3"
      },
      "source": [
        "## First decorator"
      ]
    },
    {
      "cell_type": "code",
      "execution_count": null,
      "metadata": {
        "id": "qMIFadeM-vr4"
      },
      "outputs": [],
      "source": [
        "def hello():\n",
        "    print(\"Hello world\")\n",
        "\n",
        "def decorator(func):\n",
        "    def wrapper():\n",
        "        print(\"!!!!!! Before !!!!!!\")\n",
        "        func()\n",
        "        print(\"!!!!!! After !!!!!!\")\n",
        "    return wrapper\n",
        "\n",
        "\n",
        "def bye():\n",
        "    print(\"Bye world\")\n",
        "\n",
        "say_hello = decorator(hello)\n",
        "say_bye = decorator(bye)"
      ]
    },
    {
      "cell_type": "code",
      "execution_count": null,
      "metadata": {
        "id": "i0DG4QJx-vr4"
      },
      "outputs": [],
      "source": [
        "say_hello()"
      ]
    },
    {
      "cell_type": "code",
      "execution_count": null,
      "metadata": {
        "id": "dTaUzXEr-vr5"
      },
      "outputs": [],
      "source": [
        "from datetime import datetime\n",
        "\n",
        "def decorator(func):\n",
        "    def wrapper():\n",
        "        print(f'Start: {datetime.now()}')\n",
        "        func()\n",
        "        print(f'End: {datetime.now()}')\n",
        "    return wrapper\n",
        "\n",
        "def build_list():\n",
        "    _list = []\n",
        "    for i in range(10_000_000):\n",
        "        _list.append(i)\n",
        "\n",
        "calculate_build_list = decorator(build_list)"
      ]
    },
    {
      "cell_type": "code",
      "execution_count": null,
      "metadata": {
        "id": "riL-pKM5-vr5"
      },
      "outputs": [],
      "source": [
        "calculate_build_list()"
      ]
    },
    {
      "cell_type": "code",
      "execution_count": null,
      "metadata": {
        "id": "oBxUUn40-vr5"
      },
      "outputs": [],
      "source": [
        "def build_huge_list():\n",
        "    _list = []\n",
        "    for i in range(100_000_000):\n",
        "        _list.append(i)\n",
        "\n",
        "build = decorator(build_huge_list)"
      ]
    },
    {
      "cell_type": "code",
      "execution_count": null,
      "metadata": {
        "id": "UgY_jXJP-vr6"
      },
      "outputs": [],
      "source": [
        "build()"
      ]
    },
    {
      "cell_type": "markdown",
      "metadata": {
        "id": "0vfdr88S-vr6"
      },
      "source": [
        "## Desserts, please\n"
      ]
    },
    {
      "cell_type": "code",
      "execution_count": null,
      "metadata": {
        "id": "Ygji-7DW-vr7"
      },
      "outputs": [],
      "source": [
        "\n",
        "from datetime import datetime\n",
        "\n",
        "def decorator(func):\n",
        "    def wrapper():\n",
        "        print(f'Start: {datetime.now()}')\n",
        "        func()\n",
        "        print(f'End: {datetime.now()}')\n",
        "    return wrapper\n",
        "\n",
        "\n",
        "def hello():\n",
        "    print(\"Hello world\")\n",
        "\n",
        "\n",
        "@decorator\n",
        "def hello2():\n",
        "    hello()\n",
        "\n",
        "\n",
        "@decorator\n",
        "def bye():\n",
        "    print(\"bye world\")"
      ]
    },
    {
      "cell_type": "code",
      "execution_count": null,
      "metadata": {
        "id": "JoV9JDPw-vr7"
      },
      "outputs": [],
      "source": [
        "hello2()\n"
      ]
    },
    {
      "cell_type": "code",
      "execution_count": null,
      "metadata": {
        "id": "Pd327dua-vr8"
      },
      "outputs": [],
      "source": [
        "bye()"
      ]
    },
    {
      "cell_type": "code",
      "execution_count": null,
      "metadata": {
        "id": "1GU8D3KH-vr8"
      },
      "outputs": [],
      "source": [
        "def duplicate_exec(func):\n",
        "    def wrapper():\n",
        "        func()\n",
        "        func()\n",
        "    return wrapper\n",
        "\n",
        "\n",
        "@duplicate_exec\n",
        "def hello():\n",
        "\n",
        "    print(\"Hello world!\")\n",
        "\n",
        "# hello = duplicate_exec(hello)\n",
        "\n",
        "hello()"
      ]
    },
    {
      "cell_type": "markdown",
      "metadata": {
        "id": "vDb75FcE-vr8"
      },
      "source": [
        "## Arguments in decorator"
      ]
    },
    {
      "cell_type": "code",
      "execution_count": 5,
      "metadata": {
        "id": "y3xMN4D0-vr9"
      },
      "outputs": [],
      "source": [
        "def duplicate_exec(func):\n",
        "    def wrapper(*args, **kwargs):\n",
        "        func(*args, **kwargs)\n",
        "        func(*args, **kwargs)\n",
        "    return wrapper"
      ]
    },
    {
      "cell_type": "code",
      "execution_count": null,
      "metadata": {
        "id": "h5-4EmJc-vr9"
      },
      "outputs": [],
      "source": [
        "@duplicate_exec\n",
        "def hello(name):\n",
        "    print(f\"Hello {name}!\")\n",
        "\n",
        "\n",
        "hello('Eugene')"
      ]
    },
    {
      "cell_type": "code",
      "execution_count": 6,
      "metadata": {
        "id": "wj2cqVe9-vr9"
      },
      "outputs": [
        {
          "name": "stdout",
          "output_type": "stream",
          "text": [
            "Hello Eugene!\n",
            "Hello Eugene!\n"
          ]
        }
      ],
      "source": [
        "@duplicate_exec\n",
        "def hello(name):\n",
        "    print(f\"Hello {name}!\")\n",
        "\n",
        "\n",
        "hello('Eugene')"
      ]
    },
    {
      "cell_type": "code",
      "execution_count": null,
      "metadata": {
        "id": "1KMrJZ39-vr9"
      },
      "outputs": [],
      "source": [
        "def duplicate_exec(func):\n",
        "    def wrapper(*args, **kwargs):\n",
        "        func(*args, **kwargs)\n",
        "        return func(*args, **kwargs)\n",
        "    return wrapper"
      ]
    },
    {
      "cell_type": "markdown",
      "metadata": {
        "id": "RfdszhKC-vr-"
      },
      "source": [
        "### How to return values from decorator"
      ]
    },
    {
      "cell_type": "code",
      "execution_count": null,
      "metadata": {
        "id": "3Cl3irRd-vr-"
      },
      "outputs": [],
      "source": [
        "@duplicate_exec\n",
        "def hello(name):\n",
        "    value = f\"Hello {name}!\"\n",
        "    print(value)\n",
        "    return value\n",
        "\n",
        "\n",
        "name_var = hello('World')\n",
        "\n",
        "print(name_var)"
      ]
    },
    {
      "cell_type": "markdown",
      "metadata": {
        "id": "Z8jx9BC0-vr-"
      },
      "source": [
        "### Reveal proper function name"
      ]
    },
    {
      "cell_type": "code",
      "execution_count": null,
      "metadata": {
        "id": "fm48_IFl-vr-"
      },
      "outputs": [],
      "source": [
        "hello.__name__"
      ]
    },
    {
      "cell_type": "code",
      "execution_count": null,
      "metadata": {
        "id": "UTnYDJG_-vr-"
      },
      "outputs": [],
      "source": [
        "import functools\n",
        "\n",
        "def duplicate_exec(func):\n",
        "    @functools.wraps(func)\n",
        "    def wrapper(*args, **kwargs):\n",
        "        func(*args, **kwargs)\n",
        "        return func(*args, **kwargs)\n",
        "    return wrapper"
      ]
    },
    {
      "cell_type": "code",
      "execution_count": 3,
      "metadata": {
        "id": "73fPqHz0-vr_"
      },
      "outputs": [
        {
          "data": {
            "text/plain": [
              "{'name': str, 'return': str}"
            ]
          },
          "execution_count": 3,
          "metadata": {},
          "output_type": "execute_result"
        }
      ],
      "source": [
        "# @duplicate_exec\n",
        "def hello_function(name: str) -> str:\n",
        "    \"\"\"_summary_\n",
        "\n",
        "    Args:\n",
        "        name (str): _description_\n",
        "\n",
        "    Returns:\n",
        "        str: _description_\n",
        "    \"\"\"\n",
        "    return f\"Hello {name}!\"\n",
        "\n",
        "# hello_function.__name__\n",
        "hello_function.__annotations__\n",
        "# dir(hello_function)"
      ]
    },
    {
      "cell_type": "code",
      "execution_count": null,
      "metadata": {
        "id": "uLr8iwDO-vr_"
      },
      "outputs": [],
      "source": [
        "help(hello_function)"
      ]
    },
    {
      "cell_type": "markdown",
      "metadata": {
        "id": "0hBmnHBz-vr_"
      },
      "source": [
        "## Few decorators"
      ]
    },
    {
      "cell_type": "code",
      "execution_count": null,
      "metadata": {
        "id": "Oc59FGl_-vr_"
      },
      "outputs": [],
      "source": [
        "def make_bold(func):\n",
        "    @functools.wraps(func)\n",
        "    def wrapper(*args, **kwargs):\n",
        "        return \"**\" + func(*args, **kwargs) + \"**\"\n",
        "    return wrapper\n",
        "\n",
        "def make_italic(func):\n",
        "    @functools.wraps(func)\n",
        "    def wrapper(*args, **kwargs):\n",
        "        return \"__\" + func(*args, **kwargs) + \"__\"\n",
        "    return wrapper"
      ]
    },
    {
      "cell_type": "code",
      "execution_count": null,
      "metadata": {
        "id": "q7ZEOv_4-vsA"
      },
      "outputs": [],
      "source": [
        "@make_bold\n",
        "@make_italic\n",
        "def hello(name):\n",
        "    return f\"Hello {name}!\"\n",
        "\n",
        "result = hello('my_name')\n",
        "print(result)"
      ]
    },
    {
      "cell_type": "markdown",
      "metadata": {
        "id": "bdg0I3Wb-vsA"
      },
      "source": [
        "### Decorators With Arguments"
      ]
    },
    {
      "cell_type": "code",
      "execution_count": null,
      "metadata": {
        "id": "JMP4b7cj-vsA"
      },
      "outputs": [],
      "source": [
        "@repeat(num_times=4)\n",
        "def hello(name):\n",
        "    print(f'Hello, {name}')\n",
        "    return f\"Hello, {name}\"\n",
        "\n",
        "\n",
        "name = hello('Name')\n",
        "# print(name)"
      ]
    },
    {
      "cell_type": "code",
      "execution_count": null,
      "metadata": {
        "id": "-cdY5HXn-vsA"
      },
      "outputs": [],
      "source": [
        "def repeat(num_times):\n",
        "\n",
        "    def decorator_repeat(func):\n",
        "\n",
        "        @functools.wraps(func)\n",
        "        def wrapper_repeat(*args, **kwargs):\n",
        "            for _ in range(num_times):\n",
        "                value = func(*args, **kwargs)\n",
        "            return value\n",
        "\n",
        "        return wrapper_repeat\n",
        "\n",
        "    return decorator_repeat"
      ]
    },
    {
      "cell_type": "markdown",
      "metadata": {
        "id": "SiuKYBAf-vsA"
      },
      "source": [
        "## Practice\n",
        "\n",
        "1. Create a decorator that will check types. It should take a function with arguments and validate inputs with annotations.\n",
        "\n",
        "Example:\n",
        "\n",
        "    @check_types\n",
        "    def add(a: int, b: int) -> int:\n",
        "        return a + b\n",
        "\n",
        "    add(1, 2)\n",
        "    > 3\n",
        "\n",
        "    add(1, \"2\")\n",
        "    > TypeError: Argument b must be int, not str\n",
        "\n",
        "2. Write a decorator that will calculate the execution time of a function.\n",
        "\n",
        "Example:\n",
        "    \n",
        "        @calculate_execution_time\n",
        "        def add(a: int, b: int) -> int:\n",
        "            return a + b\n",
        "    \n",
        "        add(1, 2)\n",
        "        > 3\n",
        "        > Execution time: 0.0005 seconds"
      ]
    }
  ],
  "metadata": {
    "colab": {
      "provenance": []
    },
    "kernelspec": {
      "display_name": "Python 3.7.4 32-bit",
      "language": "python",
      "name": "python3"
    },
    "language_info": {
      "codemirror_mode": {
        "name": "ipython",
        "version": 3
      },
      "file_extension": ".py",
      "mimetype": "text/x-python",
      "name": "python",
      "nbconvert_exporter": "python",
      "pygments_lexer": "ipython3",
      "version": "3.7.4"
    },
    "orig_nbformat": 4,
    "vscode": {
      "interpreter": {
        "hash": "987e006abd5cecb161978c9f14601059913dc7f2e2f97dfe45898e5fe22c1153"
      }
    }
  },
  "nbformat": 4,
  "nbformat_minor": 0
}
