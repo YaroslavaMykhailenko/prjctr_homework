{
  "cells": [
    {
      "cell_type": "markdown",
      "metadata": {
        "id": "WRpsJj1gnbC4"
      },
      "source": [
        "# Clean code principles\n",
        "\n",
        "1. Follow standard conventions.\n",
        "2. Keep it simple stupid. Simpler is always better. Reduce complexity as much as possible.\n",
        "3. Boyscout rule. Leave the campground cleaner than you found it.\n",
        "4. Always find root cause. Always look for the root cause of a problem."
      ]
    },
    {
      "cell_type": "markdown",
      "metadata": {
        "id": "49vjFgQnnbC9"
      },
      "source": [
        "## High level advices\n",
        "\n",
        "1. Function or class should do only one thing and do it well\n",
        "2. Code should be easy to read\n",
        "3. Code should be easy to debug\n",
        "4. Code should be easy to maintain and change\n",
        "5. Clean code should have nice performance"
      ]
    },
    {
      "cell_type": "markdown",
      "metadata": {
        "id": "KX-v4QFDnbC-"
      },
      "source": [
        "## Use long name for all variables and modules\n",
        "\n",
        "### Names rules\n",
        "1. Choose descriptive and unambiguous names.\n",
        "2. Make meaningful distinction.\n",
        "3. Use pronounceable names.\n",
        "4. Use searchable names.\n",
        "5. Replace magic numbers with named constants.\n"
      ]
    },
    {
      "cell_type": "code",
      "execution_count": null,
      "metadata": {
        "id": "qGflanBDnbC_"
      },
      "outputs": [],
      "source": [
        "# Bad\n",
        "x = 3600\n",
        "\n",
        "# Better\n",
        "seconds = 3600\n",
        "\n",
        "# Good\n",
        "seconds_in_hour = 3600\n",
        "\n",
        "# Perfect\n",
        "seconds_in_hour = 60 * 60 * 24"
      ]
    },
    {
      "cell_type": "markdown",
      "metadata": {
        "id": "dW__s7NOnbDB"
      },
      "source": [
        "### Use descriptive intention revealing names"
      ]
    },
    {
      "cell_type": "code",
      "execution_count": null,
      "metadata": {
        "id": "vdJsAnKQnbDC"
      },
      "outputs": [],
      "source": [
        "# Bad\n",
        "question_1 = 'Would you like to drink some tea?'\n",
        "question_2 = 'What is your name?'\n",
        "question_3 = 'How old are you?'\n",
        "\n",
        "# Better\n",
        "q = ['Would you like to drink some tea?', 'What is your name?', 'How old are you?'] \n",
        "\n",
        "# Good\n",
        "questions = ['Would you like to drink some tea?', 'What is your name?', 'How old are you?'] \n",
        "\n",
        "# Perfect\n",
        "FAQ_QUESTION = \"SOme question 1\"\n",
        "\n",
        "VERIFICATION_TEST_QUESTIONS = (\n",
        "    'Would you like to drink some tea?',\n",
        "    'What is your name?',\n",
        "    'How old are you?',\n",
        "    FAQ_QUESTION,\n",
        ")\n",
        "VERIFICATION_TEST_QUESTIONS = (\n",
        "    'Would you like to drink some tea?',\n",
        "    'What is your name?',\n",
        "    'How old are you?',\n",
        "    FAQ_QUESTION,\n",
        ")\n",
        "\n",
        "IMPORTANT_BUTTON = 3\n",
        "WELCOME_MENU = (\n",
        "    1, \n",
        "    2,\n",
        "    IMPORTANT_BUTTON,\n",
        ")\n",
        "BUY_MENU = (\n",
        "    4,\n",
        "    5,\n",
        ") + WELCOME_MENU\n",
        "\n",
        "OTHER_MENU = (\n",
        "    IMPORTANT_BUTTON,\n",
        "    7,\n",
        ")"
      ]
    },
    {
      "cell_type": "code",
      "execution_count": null,
      "metadata": {
        "id": "hwm3UYdOnbDD"
      },
      "outputs": [],
      "source": [
        "WELCOME_MENU[0] + WELCOME_MENU[3]\n"
      ]
    },
    {
      "cell_type": "markdown",
      "metadata": {
        "id": "UC6kSreDnbDD"
      },
      "source": [
        "### Don’t use magic numbers"
      ]
    },
    {
      "cell_type": "code",
      "execution_count": null,
      "metadata": {
        "id": "vxHfzrVknbDE"
      },
      "outputs": [],
      "source": [
        "# Not good\n",
        "\n",
        "number = random.randint(0, 4)\n",
        "sticker = open(f'stickers/sticker_{number}.png', 'rb')\n",
        "\n",
        "# Good\n",
        "\n",
        "VERIFICATION_QUESTIONS_QUANTITY = 5\n",
        "question_number = random.randint(1, VERIFICATION_QUESTIONS_QUANTITY)\n",
        "sticker = open(f'stickers/sticker_{question_number}.png', 'rb')\n",
        "\n",
        "\n",
        "# Not good\n",
        "def roll_dice():\n",
        "    return random.randint(1, 6)\n",
        "\n",
        "# Good\n",
        "DICE_SIDES = 6\n",
        "\n",
        "def roll_dice(sides: int = DICE_SIDES):\n",
        "    return random.randint(1, DICE_SIDES)\n",
        "\n",
        "\n",
        "roll_dice(DICE_SIDES) # not ok\n",
        "roll_dice(20) # ok"
      ]
    },
    {
      "cell_type": "markdown",
      "metadata": {
        "id": "h_EzTaH8nbDF"
      },
      "source": [
        "## Comments rules\n",
        "\n",
        "1. Always try to explain yourself in code.\n",
        "2. Don't be redundant.\n",
        "3. Don't add obvious noise.\n",
        "4. Don't use closing brace comments.\n",
        "5. Don't comment out code. Just remove.\n",
        "6. Use as explanation of intent.\n",
        "7. Use as clarification of code.\n",
        "8. Use as warning of consequences.\n",
        "\n",
        "![code](https://i.redd.it/vs35fh1ruef51.jpg)\n",
        "\n",
        "\n",
        "![code](https://miro.medium.com/max/400/1*JokD47K7oc3WPCcY86dKww.jpeg)"
      ]
    },
    {
      "cell_type": "markdown",
      "metadata": {
        "id": "JOAXQqAenbDG"
      },
      "source": [
        "### Always use same names for same things\n",
        "\n",
        "#### Understandability tips\n",
        "1. Be consistent. If you do something a certain way, do all similar things in the same way.\n",
        "2. Use explanatory variables.\n"
      ]
    },
    {
      "cell_type": "code",
      "execution_count": null,
      "metadata": {
        "id": "HrxSnFt1nbDG"
      },
      "outputs": [],
      "source": [
        "# Not good\n",
        "student_first_name = 'Bob'\n",
        "client_last_name = 'Dylan'\n",
        "user_age = 27\n",
        "\n",
        "\n",
        "def fetch_clients(response, variable):\n",
        "    pass\n",
        "\n",
        "\n",
        "def fetch_posts(res, var):\n",
        "    pass\n",
        "\n",
        "\n",
        "# Good\n",
        "student_first_name = 'Bob'\n",
        "student_last_name = 'Dylan'\n",
        "student_age = 27\n",
        "\n",
        "\n",
        "def fetch_clients(response, variable):\n",
        "    pass\n",
        "\n",
        "\n",
        "def fetch_posts(response, variable):\n",
        "    pass"
      ]
    },
    {
      "cell_type": "markdown",
      "metadata": {
        "id": "yTrJDWQtnbDH"
      },
      "source": [
        "## Functions should do one thing and do it well\n",
        "\n",
        "### Functions rules\n",
        "1. Small.\n",
        "2. Do one thing.\n",
        "3. Use descriptive names.\n",
        "4. Prefer fewer arguments.\n",
        "5. Have no side effects.\n",
        "6. Don't use flag arguments. Split method into several independent methods that can be called from the client without the flag.\n"
      ]
    },
    {
      "cell_type": "code",
      "execution_count": null,
      "metadata": {
        "id": "Y5nb82zKnbDH"
      },
      "outputs": [],
      "source": [
        "# Not good\n",
        "def print_users():\n",
        "    users = requests.get('SOME_URL')\n",
        "\n",
        "    for user in users:\n",
        "        print(user)\n",
        "\n",
        "# Better\n",
        "def fetch_and_display_users():\n",
        "    users = requests.get('SOME_URL')\n",
        "\n",
        "    for user in users:\n",
        "        print(user)\n",
        "\n",
        "\n",
        "# Good\n",
        "def fetch_user():\n",
        "    users = requests.get('SOME_URL')\n",
        "    return users\n",
        "\n",
        "def display_users(users):\n",
        "    for user in users:\n",
        "        print(user)"
      ]
    },
    {
      "cell_type": "markdown",
      "metadata": {
        "id": "EEHbZtaUnbDI"
      },
      "source": [
        "## Source code structure\n",
        "1. Separate concepts vertically.\n",
        "2. Related code should appear vertically dense.\n",
        "3. Declare variables close to their usage.\n",
        "4. Dependent functions should be close.\n",
        "5. Similar functions should be close.\n",
        "6. Place functions in the downward direction.\n",
        "7. Keep lines short.\n",
        "8. Don't use horizontal alignment.\n",
        "9. Use white space to associate related things and disassociate weakly related.\n",
        "10. Don't break indentation.\n"
      ]
    },
    {
      "cell_type": "code",
      "execution_count": null,
      "metadata": {
        "id": "_C_Qv2S0nbDI"
      },
      "outputs": [],
      "source": [
        "# Not good\n",
        "def send_welcome(message):\n",
        "    if message.user.verified:\n",
        "        markup = utils.create_markup(\n",
        "            resize_keyboard=True,\n",
        "            one_time_keyboard=True)\n",
        "        buttons = utils.create_button(constants.WELCOME_BUTTONS_VERIFIED)\n",
        "        for button in buttons:\n",
        "            markup.add(button)\n",
        "        text_msg = constants.WELCOME_VERIFIED_USER\n",
        "        bot.send_message(message.chat.id, text_msg, reply_markup=markup)\n",
        "    else:\n",
        "        markup = utils.create_markup(\n",
        "            resize_keyboard=True,\n",
        "            one_time_keyboard=True)\n",
        "        buttons = utils.create_button(constants.WELCOME_BUTTONS_UNVERIFIED)\n",
        "        for button in buttons:\n",
        "            markup.add(button)\n",
        "        text_msg = constants.WELCOME_UNVERIFIED_USER\n",
        "        bot.send_message(message.chat.id, text_msg, reply_markup=markup)\n",
        "        \n",
        "# Better\n",
        "def send_welcome(message):\n",
        "    if message.user.verified:\n",
        "        button_text = constants.WELCOME_BUTTONS_VERIFIED\n",
        "        text_msg = constants.WELCOME_VERIFIED_USER\n",
        "    else:\n",
        "        button_text = constants.WELCOME_BUTTONS_UNVERIFIED\n",
        "        text_msg = constants.WELCOME_UNVERIFIED_USER\n",
        "\n",
        "    markup = utils.create_markup(\n",
        "        resize_keyboard=True,\n",
        "        one_time_keyboard=True,\n",
        "    )\n",
        "    buttons = utils.create_button(button_text)\n",
        "    \n",
        "    for button in buttons:\n",
        "        markup.add(button)\n",
        "    \n",
        "    bot.send_message(\n",
        "        message.chat.id,\n",
        "        text_msg,\n",
        "        reply_markup=markup,\n",
        "    )\n",
        "    \n",
        "# Perfect\n",
        "def send_message(chat: Chat, message: str, button_names: list[str] = None):\n",
        "    markup = None\n",
        "    if button_names:\n",
        "        markup = utils.create_markup(\n",
        "            resize_keyboard=True,\n",
        "            one_time_keyboard=True,\n",
        "        )\n",
        "        buttons = utils.create_button(button_text)\n",
        "        \n",
        "        for button in buttons:\n",
        "            markup.add(button)\n",
        "    \n",
        "    bot.send_message(chat.id, message, reply_markup=markup)\n",
        "\n",
        "\n",
        "def send_welcome_message_verified(message):\n",
        "    button_text = constants.WELCOME_BUTTONS_VERIFIED\n",
        "    text_msg = constants.WELCOME_VERIFIED_USER\n",
        "    \n",
        "    send_message(message.chat, text_msg, button_text)\n",
        "    \n",
        "\n",
        "def send_welcome_message_unverified(message):\n",
        "    button_text = constants.WELCOME_BUTTONS_UNVERIFIED\n",
        "    text_msg = constants.WELCOME_UNVERIFIED_USER\n",
        "    \n",
        "    send_message(message.chat, text_msg, button_text)\n",
        "\n",
        "\n",
        "def send_welcome(message):\n",
        "    if message.user.verified:\n",
        "        send_welcome_message_verified(message)\n",
        "        return\n",
        "\n",
        "    send_welcome_message_unverified(message)\n"
      ]
    },
    {
      "cell_type": "markdown",
      "metadata": {
        "id": "QqTxbG4cnbDJ"
      },
      "source": [
        "### Do not add redundant context"
      ]
    },
    {
      "cell_type": "code",
      "execution_count": null,
      "metadata": {
        "id": "JdWP_ooInbDK"
      },
      "outputs": [],
      "source": [
        "# Not good\n",
        "def reveal_object(user_names_list):\n",
        "    pass\n",
        "\n",
        "class Person:\n",
        "    def __init__(self, person_username, person_email, person_phone, person_address):\n",
        "        self.person_username = person_username\n",
        "        self.person_email = person_email\n",
        "        self.person_phone = person_phone\n",
        "        self.person_address = person_address\n",
        "\n",
        "# Good\n",
        "def reveal_object(user_names: list[str]):\n",
        "    pass\n",
        "\n",
        "class Person:\n",
        "    def __init__(self, username, email, phone, address):\n",
        "        self.username = username\n",
        "        self.email = email\n",
        "        self.phone = phone\n",
        "        self.address = address"
      ]
    },
    {
      "cell_type": "markdown",
      "metadata": {
        "id": "hooD7Oa7nbDK"
      },
      "source": [
        "### Don`t repeat yourself`"
      ]
    },
    {
      "cell_type": "code",
      "execution_count": null,
      "metadata": {
        "id": "WnNlK1j-nbDK"
      },
      "outputs": [],
      "source": [
        "user_highest = {'Olya': 0, 'Zhenya': 0, 'Sergiy': 0, 'Illia': 0, 'Marta': 0}\n",
        "\n",
        "with open('The_Game.csv', mode='r') as file:\n",
        "    reader = csv.DictReader(file)\n",
        "    for i in reader:\n",
        "        if i['Player name'] == 'Olya' and int(i['Score']) > int(user_highest['Olya']):\n",
        "            user_highest['Olya'] = int(i['Score'])\n",
        "        if i['Player name'] == 'Zhenya' and int(i['Score']) > int(user_highest['Zhenya']):\n",
        "            user_highest['Zhenya'] = int(i['Score'])\n",
        "        if i['Player name'] == 'Sergiy' and int(i['Score']) > int(user_highest['Sergiy']):\n",
        "            user_highest['Sergiy'] = int(i['Score'])\n",
        "        if i['Player name'] == 'Illia' and int(i['Score']) > int(user_highest['Illia']):\n",
        "            user_highest['Illia'] = int(i['Score'])\n",
        "        if i['Player name'] == 'Marta' and int(i['Score']) > int(user_highest['Marta']):\n",
        "            user_highest['Marta'] = int(i['Score'])"
      ]
    },
    {
      "cell_type": "code",
      "execution_count": null,
      "metadata": {
        "id": "WLUn18kgnbDL"
      },
      "outputs": [],
      "source": [
        "highest_user_score = defaultdict(int)\n",
        "\n",
        "with open('The_Game.csv', mode='r') as file:\n",
        "    reader = csv.DictReader(file)\n",
        "    for i in reader:\n",
        "        current_score = int(i['Score'])\n",
        "        username = i['Player name']\n",
        "        if (\n",
        "            highest_user_score.get(username) is None\n",
        "            or score > highest_user_score[username]\n",
        "        ):\n",
        "            highest_user_score[username] = score"
      ]
    },
    {
      "cell_type": "markdown",
      "metadata": {
        "id": "MVDtorafnbDL"
      },
      "source": [
        "### Detach implementation from values "
      ]
    },
    {
      "cell_type": "code",
      "execution_count": null,
      "metadata": {
        "id": "RS1_7r_lnbDL"
      },
      "outputs": [],
      "source": [
        "# Not good\n",
        "\n",
        "button_1 = types.KeyboardButton('📕Пожертвувати книжку📕')\n",
        "button_2 = types.KeyboardButton('Про проєкт🔍')\n",
        "button_3 = types.KeyboardButton('FAQ❓')\n",
        "\n",
        "# good\n",
        "\n",
        "SYSTEM_BUTTON_NAMES  = [\n",
        "    '📕Пожертвувати книжку📕',\n",
        "    'Про проєкт🔍',\n",
        "    'FAQ❓',\n",
        "]\n",
        "\n",
        "def build_buttons(names: list[str]) -> list[types.KeyboardButton]:\n",
        "    return [types.KeyboardButton(name) for name in names]\n",
        "\n",
        "\n",
        "def send_welcome_message():\n",
        "    ...\n",
        "    buttons = build_buttons(SYSTEM_BUTTON_NAMES)\n",
        "    ...\n"
      ]
    },
    {
      "cell_type": "markdown",
      "metadata": {
        "id": "2aC1Z8mcnbDM"
      },
      "source": [
        "## Use indentations to simplify your code"
      ]
    },
    {
      "cell_type": "code",
      "execution_count": null,
      "metadata": {
        "id": "LohYmRdlnbDM"
      },
      "outputs": [],
      "source": [
        "# Not good\n",
        "VERIFICATION_TEST_ANSWERS = [['Полуниця', 'Пшениця', 'Куниця', 'Паляниця'], ['МВФ', 'ЗСУ', 'НАБУ',\n",
        "'НБУ', 'НАБУ', 'НБУ'], ['Київ', 'Немає відділень', 'Харків', 'Немає такого банку'], ['Губка Боб',\n",
        "'Аквамен', 'Ілля Кива', 'Рускій ваєнний карабль'], ['Пес', 'Бізон', 'Патрон', 'Бровко']]\n",
        "\n",
        "# Good\n",
        "VERIFICATION_TEST_ANSWERS = [\n",
        "    [\n",
        "        'Полуниця',\n",
        "        'Пшениця',\n",
        "        'Куниця',\n",
        "        'Паляниця',\n",
        "    ],\n",
        "    [\n",
        "        'МВФ',\n",
        "        'ЗСУ',\n",
        "        'НАБУ',\n",
        "        'НБУ',\n",
        "    ],\n",
        "    ['Київ', 'Немає відділень', 'Харків', 'Немає такого банку'],\n",
        "    ['Губка Боб', 'Аквамен', 'Ілля Кива', 'Рускій ваєнний карабль'],\n",
        "    ['Пес', 'Бізон', 'Патрон', 'Бровко'],\n",
        "]"
      ]
    },
    {
      "cell_type": "code",
      "execution_count": null,
      "metadata": {
        "id": "JrrCOVV8nbDM"
      },
      "outputs": [],
      "source": [
        "def function(array):\n",
        "    return [types.KeyboardButton(name) for name in names]\n",
        "\n",
        "function(['button_name'])\n",
        "function(['button_name', 'butron_name_2'])"
      ]
    },
    {
      "cell_type": "markdown",
      "metadata": {
        "id": "yuCOgK1TnbDM"
      },
      "source": [
        "## Code smells\n",
        "\n",
        "1. Rigidity. The software is difficult to change. A small change causes a cascade of subsequent changes.\n",
        "2. Fragility. The software breaks in many places due to a single change.\n",
        "3. Immobility. You cannot reuse parts of the code in other projects because of involved risks and high effort.\n",
        "4. Needless Complexity.\n",
        "5. Needless Repetition.\n",
        "6. Opacity. The code is hard to understand."
      ]
    },
    {
      "cell_type": "markdown",
      "metadata": {
        "id": "22EJC02mnbDN"
      },
      "source": [
        "### Materials\n",
        "\n",
        "1. Clean Code: A Handbook of Agile Software Craftsmanship By Robert C. Martin\n",
        "2. Code Complete By Steve McConnell\n",
        "3. The Pragmatic Programmer: From Journeyman to Master By Andrew Hunt and David Thomas"
      ]
    }
  ],
  "metadata": {
    "kernelspec": {
      "display_name": "Python 3.9.13 64-bit",
      "language": "python",
      "name": "python3"
    },
    "language_info": {
      "codemirror_mode": {
        "name": "ipython",
        "version": 3
      },
      "file_extension": ".py",
      "mimetype": "text/x-python",
      "name": "python",
      "nbconvert_exporter": "python",
      "pygments_lexer": "ipython3",
      "version": "3.9.13"
    },
    "orig_nbformat": 4,
    "vscode": {
      "interpreter": {
        "hash": "397704579725e15f5c7cb49fe5f0341eb7531c82d19f2c29d197e8b64ab5776b"
      }
    },
    "colab": {
      "provenance": []
    }
  },
  "nbformat": 4,
  "nbformat_minor": 0
}