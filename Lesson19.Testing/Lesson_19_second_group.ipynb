{
  "cells": [
    {
      "cell_type": "markdown",
      "metadata": {
        "id": "s1XKx6JWnN5X"
      },
      "source": [
        "## Testing code\n",
        "\n",
        "### Automated vs Manual testing\n",
        "\n",
        "1. What is manual testing?\n",
        "2. Why do we need automated testing?\n"
      ]
    },
    {
      "cell_type": "markdown",
      "metadata": {
        "id": "RmyAQ6tenN5c"
      },
      "source": [
        "### Unit test vs integration test\n",
        "\n",
        "Testing in real life.\n",
        "\n",
        "1. What is test steps?\n",
        "2. What is test assertion?\n",
        "3. What is integration test?\n",
        "\n",
        "Integration test is a test that tests how different parts of the system work together.\n",
        "\n",
        "4. What is unit test? How to split process into smaller parts?\n",
        "\n",
        "Unit test is a test that tests a single small part of the system.\n"
      ]
    },
    {
      "cell_type": "code",
      "execution_count": null,
      "metadata": {
        "id": "F1Mqtc66nN5d"
      },
      "outputs": [],
      "source": [
        "def max(a, b):\n",
        "    return a\n",
        "\n",
        "# assert max(1, 2) == 2\n",
        "\n",
        "assert max(1, 2) == 2, \"max(1, 2) should be 2\"\n"
      ]
    },
    {
      "cell_type": "code",
      "execution_count": null,
      "metadata": {
        "id": "YhHbwWX5nN5f"
      },
      "outputs": [],
      "source": [
        "def max(a, b):\n",
        "    return b\n",
        "\n",
        "assert max(1, 2) == 2, \"max(1, 2) should be 2\"\n"
      ]
    },
    {
      "cell_type": "code",
      "execution_count": null,
      "metadata": {
        "id": "6Dly-Bk7nN5g"
      },
      "outputs": [],
      "source": [
        "def test_max_function():\n",
        "    assert max(1, 2) == 2, \"max(1, 2) should be 2\"\n",
        "    \n",
        "test_max_function()\n",
        "print('Done!')"
      ]
    },
    {
      "cell_type": "code",
      "execution_count": null,
      "metadata": {
        "id": "OOAxzPcznN5i"
      },
      "outputs": [],
      "source": [
        "def test_max_function():\n",
        "    assert max(1, 2) == 2, \"max(1, 2) should be 2\"\n",
        "    \n",
        "def test_max_reverse():\n",
        "    assert max(2, 1) == 2, \"max(2, 1) should be 2\"\n",
        "    \n",
        "test_max_function()\n",
        "test_max_reverse()\n",
        "print('Done!')"
      ]
    },
    {
      "cell_type": "markdown",
      "metadata": {
        "id": "_bKLpjxrnN5j"
      },
      "source": [
        "## Comparing libraries"
      ]
    },
    {
      "cell_type": "markdown",
      "metadata": {
        "id": "fIrmqdEFnN5k"
      },
      "source": [
        "### Unittest\n",
        "\n",
        "#### Pros:\n",
        "\n",
        "1. Built-in testing framework\n",
        "\n",
        "\n",
        "#### Cons:\n",
        "\n",
        "1. Writes tests only by using classes\n",
        "2. Should use proprietary assert statements"
      ]
    },
    {
      "cell_type": "code",
      "execution_count": null,
      "metadata": {
        "id": "67WIEsCKnN5l"
      },
      "outputs": [],
      "source": [
        "# test_1.py file"
      ]
    },
    {
      "cell_type": "markdown",
      "metadata": {
        "id": "eepRTHYunN5m"
      },
      "source": [
        "### Pytest"
      ]
    },
    {
      "cell_type": "markdown",
      "metadata": {
        "id": "MMFj94RtnN5m"
      },
      "source": [
        "Pros:\n",
        "\n",
        "1. Support built-in testing framework\n",
        "2. Can execute unittest`s code\n",
        "3. Support filtering (via cases)\n",
        "4. Has a lot of custom plugins\n",
        "\n",
        "Cons:\n",
        "\n",
        "1. Has to be installed manually\n"
      ]
    },
    {
      "cell_type": "markdown",
      "metadata": {
        "id": "dbas5tsGnN5o"
      },
      "source": [
        "## Writing custom tests"
      ]
    },
    {
      "cell_type": "markdown",
      "metadata": {
        "id": "Tv0kk8lmnN5o"
      },
      "source": [
        "**Choose what you will write**\n",
        "\n",
        "1. What part of code do you want to test?\n",
        "2. What use-cases you want to test?\n",
        "3. Will it be a unit test or an integration test?\n",
        "\n",
        "Build a test case\n",
        "\n",
        "1. Create input and output data\n",
        "2. Execute the code\n",
        "3. Compare the real output with the expected output\n",
        "\n",
        "Example\n",
        "\n",
        "1. Test the max function with two arguments\n",
        "2. Swap this arguments if the first one is bigger than the second one\n",
        "2. Test the max function with multiple arguments with list\n",
        "4. Test the max function with multiple arguments with tuple\n",
        "5. Test 0 value\n",
        "6. Test negative value\n",
        "7. Test string values\n",
        "\n",
        "\n",
        "\n",
        "\n"
      ]
    },
    {
      "cell_type": "code",
      "execution_count": null,
      "metadata": {
        "id": "hWO4Sz2KnN5p"
      },
      "outputs": [],
      "source": [
        "# test_project package"
      ]
    },
    {
      "cell_type": "markdown",
      "metadata": {
        "id": "YoMxoam6nN5p"
      },
      "source": [
        "### Assertions\n",
        "\n",
        "assertEqual(a, b) -> a == b\n",
        "\n",
        "assertNotEqual(a, b) -> a != b\n",
        "\n",
        "assertTrue(x) -> bool(x) is True\n",
        "\n",
        "assertFalse(x) -> bool(x) is False\n",
        "\n",
        "assertIs(a, b) -> a is b\n",
        "\n",
        "assertIsNot(a, b) -> a is not b\n",
        "\n",
        "assertIsNone(x) -> x is None\n",
        "\n",
        "assertIn(a, b) -> a in b\n",
        "\n",
        "assertIsInstance(a, b) -> isinstance(a, b)\n",
        "\n",
        "assertRaises(exc, fun, *args, **kwargs) -> fun(*args, **kwargs) raises exc\n"
      ]
    },
    {
      "cell_type": "markdown",
      "metadata": {
        "id": "JOQuIRGBnN5q"
      },
      "source": [
        "### Executing tests\n",
        "\n",
        "> python -m unittest test\n",
        "\n",
        "Unittest will search for a file called test_*.py in the current directory. You can also specify a directory.\n",
        "\n",
        "> python -m unittest discover -v tests"
      ]
    },
    {
      "cell_type": "markdown",
      "metadata": {
        "id": "qqmbO5x0nN5q"
      },
      "source": [
        "### Good code writing practices for better testing\n",
        "\n",
        "![data](https://www.snapagency.com/wp-content/uploads/2018/03/debugging-qa.gif)\n",
        "\n",
        "1. Refactor code to assign single responsibility for each function\n",
        "2. Don`t repeat yourself\n",
        "3. Use mocking to test code\n",
        "4. Write at least integration tests"
      ]
    },
    {
      "cell_type": "markdown",
      "metadata": {
        "id": "ghzPuEs3nN5r"
      },
      "source": [
        "## Mock objects\n"
      ]
    },
    {
      "cell_type": "code",
      "execution_count": null,
      "metadata": {
        "id": "lDdYCvfGnN5r"
      },
      "outputs": [],
      "source": [
        "from unittest.mock import Mock\n",
        "\n",
        "mock = Mock()\n",
        "\n",
        "mock.custom_attr = 3"
      ]
    },
    {
      "cell_type": "code",
      "execution_count": null,
      "metadata": {
        "id": "Db9ow60onN5r"
      },
      "outputs": [],
      "source": [
        "mock.custom_attr_2.a.b.c()"
      ]
    },
    {
      "cell_type": "code",
      "execution_count": null,
      "metadata": {
        "id": "DKvG50rDnN5s"
      },
      "outputs": [],
      "source": [
        "print(mock.random_method())"
      ]
    },
    {
      "cell_type": "code",
      "execution_count": null,
      "metadata": {
        "id": "P5EdKveInN5s"
      },
      "outputs": [],
      "source": [
        "mock.method.assert_called()"
      ]
    },
    {
      "cell_type": "code",
      "execution_count": null,
      "metadata": {
        "id": "7oHyZpk5nN5s"
      },
      "outputs": [],
      "source": [
        "mock.method()"
      ]
    },
    {
      "cell_type": "code",
      "execution_count": null,
      "metadata": {
        "id": "oRCJavsbnN5t"
      },
      "outputs": [],
      "source": [
        "mock.method.assert_called_once()"
      ]
    },
    {
      "cell_type": "code",
      "execution_count": null,
      "metadata": {
        "id": "dmpRSgiRnN5t"
      },
      "outputs": [],
      "source": [
        "mock.method.assert_called_with(a=1)"
      ]
    },
    {
      "cell_type": "code",
      "execution_count": null,
      "metadata": {
        "id": "Mky920I6nN5t"
      },
      "outputs": [],
      "source": [
        "mock.method(a=1)"
      ]
    },
    {
      "cell_type": "code",
      "execution_count": null,
      "metadata": {
        "id": "giQCuu8enN5t"
      },
      "outputs": [],
      "source": [
        "mock.method.assert_called_once_with(a=1)"
      ]
    },
    {
      "cell_type": "code",
      "execution_count": null,
      "metadata": {
        "id": "gTrG0EdCnN5u"
      },
      "outputs": [],
      "source": [
        "from datetime import datetime\n",
        "\n",
        "def is_monday():\n",
        "    print('datetime: ', datetime)\n",
        "    today = datetime.today()\n",
        "    print('today: ', today)\n",
        "\n",
        "    print('today.weekday(): ', today.weekday())\n",
        "    return today.weekday() == 0\n",
        "\n",
        "assert is_monday(), \"Today is not a Monday\""
      ]
    },
    {
      "cell_type": "code",
      "execution_count": null,
      "metadata": {
        "id": "hJSN5cYRnN5u"
      },
      "outputs": [],
      "source": [
        "from datetime import datetime\n",
        "\n",
        "monday = datetime(2022, 10, 31)\n",
        "\n",
        "datetime = Mock()\n",
        "\n",
        "datetime.today.return_value = monday\n",
        "\n",
        "assert is_monday(), \"Today is not a Monday\"\n",
        "\n",
        "print('Done')"
      ]
    },
    {
      "cell_type": "code",
      "execution_count": null,
      "metadata": {
        "id": "cmpzPOJjnN5u"
      },
      "outputs": [],
      "source": [
        "tuesday = datetime(2022, 11, 1)\n",
        "\n",
        "datetime = Mock()\n",
        "datetime.today.return_value = tuesday\n",
        "\n",
        "assert is_monday(), \"Today is not a Monday\"\n",
        "\n",
        "print('Done')"
      ]
    },
    {
      "cell_type": "code",
      "execution_count": null,
      "metadata": {
        "id": "gz_rbjGhnN5u"
      },
      "outputs": [],
      "source": [
        "import requests\n",
        "\n",
        "requests = Mock()\n",
        "\n",
        "\n",
        "def get_user_info(user_id):\n",
        "    print(requests)\n",
        "    resp = requests.get(f'https://apsi.github.com/users/{user_id}')\n",
        "    print('status_code', resp.status_code)\n",
        "    if resp.status_code == 200:\n",
        "        return resp.json()\n",
        "\n",
        "    return None\n",
        "\n",
        "\n",
        "def test_get_user_info():\n",
        "    response_mock = Mock()\n",
        "    response_mock.status_code = 200\n",
        "    response_mock.json.return_value = {'login': 'test'}\n",
        "\n",
        "    requests.get.return_value = response_mock\n",
        "\n",
        "\n",
        "    assert get_user_info('test') == {'login': 'test'}\n",
        "\n",
        "    print('requests.get.call_count', requests.get.call_count)\n",
        "    assert requests.get.call_count == 1\n",
        "\n",
        "test_get_user_info()"
      ]
    },
    {
      "cell_type": "code",
      "execution_count": null,
      "metadata": {
        "id": "01L_QnssnN5v"
      },
      "outputs": [],
      "source": [
        "mock = Mock(side_effect=Exception('test'))\n",
        "\n",
        "mock()"
      ]
    },
    {
      "cell_type": "code",
      "execution_count": null,
      "metadata": {
        "id": "vbLz6tGbnN5v"
      },
      "outputs": [],
      "source": [
        "mock = Mock(attr='name attribute')\n",
        "\n",
        "mock.attr\n"
      ]
    },
    {
      "cell_type": "code",
      "execution_count": null,
      "metadata": {
        "id": "2YNBtWJQnN5v"
      },
      "outputs": [],
      "source": [
        "mock = Mock(return_value='test')\n",
        "mock()"
      ]
    },
    {
      "cell_type": "code",
      "execution_count": null,
      "metadata": {
        "id": "e3m1eEVjnN5w"
      },
      "outputs": [],
      "source": [
        "mock = Mock(obj=Mock(return_value=True))\n",
        "\n",
        "mock.obj()"
      ]
    },
    {
      "cell_type": "markdown",
      "metadata": {
        "id": "9fGADm0SnN5w"
      },
      "source": [
        "## Patch object\n",
        "\n",
        "> test_3.py"
      ]
    },
    {
      "cell_type": "markdown",
      "metadata": {
        "id": "wuIgM9KFnN5w"
      },
      "source": [
        "### Practice\n",
        "\n",
        "1. Write a test for the Bank class that we wrote in 14 lesson. You should write a test for the open_account method. Ensure that the account is opened and has  balance.\n",
        "2. Test update method. It should check that code added interest and  sended a message (print function was called).\n",
        "\n",
        "\n",
        "### Material \n",
        "\n",
        "1. [Testing](https://realpython.com/python-testing/)\n",
        "2. [Mock](https://realpython.com/python-mock-library/)"
      ]
    }
  ],
  "metadata": {
    "kernelspec": {
      "display_name": "Python 3.9.13 64-bit",
      "language": "python",
      "name": "python3"
    },
    "language_info": {
      "codemirror_mode": {
        "name": "ipython",
        "version": 3
      },
      "file_extension": ".py",
      "mimetype": "text/x-python",
      "name": "python",
      "nbconvert_exporter": "python",
      "pygments_lexer": "ipython3",
      "version": "3.9.13"
    },
    "orig_nbformat": 4,
    "vscode": {
      "interpreter": {
        "hash": "397704579725e15f5c7cb49fe5f0341eb7531c82d19f2c29d197e8b64ab5776b"
      }
    },
    "colab": {
      "provenance": []
    }
  },
  "nbformat": 4,
  "nbformat_minor": 0
}