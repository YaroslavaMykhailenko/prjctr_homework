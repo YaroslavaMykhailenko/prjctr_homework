{
 "cells": [
  {
   "cell_type": "markdown",
   "metadata": {},
   "source": [
    "## Practice block 1:\n",
    "\n",
    "1. Create an outer function that will accept two parameters, a and b\n",
    "2. Create an inner function inside an outer function that will calculate the addition of a and b\n",
    "3. At last, an outer function will add 5 into addition and return it"
   ]
  },
  {
   "cell_type": "code",
   "execution_count": null,
   "metadata": {},
   "outputs": [],
   "source": [
    "def outer_function(a, b):\n",
    "\n",
    "    def inner_function():\n",
    "        return a + b\n",
    "    \n",
    "    return inner_function() + 5\n",
    "\n",
    "print(outer_function(6, 7))\n"
   ]
  },
  {
   "cell_type": "markdown",
   "metadata": {},
   "source": [
    "## Practice block 2\n",
    "\n",
    "\n",
    "1. Write a program that asks user to enter an integer and convert it to int. If the user enters something that is not an integer, program should catch an error and ask the user to enter an integer again. if user inputs an integer, program should print this number and quit w/o any error.\n",
    "2. Write a program that asks the user to input a string and an integer n. Then display the character at index n in the string. You should handle an error properly and display proper error message."
   ]
  },
  {
   "cell_type": "code",
   "execution_count": null,
   "metadata": {},
   "outputs": [],
   "source": [
    "# 1\n",
    "try: \n",
    "    some_string = int(input('Enter some number:'))\n",
    "    print(some_string)\n",
    "except ValueError:\n",
    "    print(\"That was not an integer. Try again!\")\n",
    "\n"
   ]
  },
  {
   "cell_type": "code",
   "execution_count": 6,
   "metadata": {},
   "outputs": [
    {
     "name": "stdout",
     "output_type": "stream",
     "text": [
      "a\n"
     ]
    }
   ],
   "source": [
    "# 2 \n",
    "try:\n",
    "    user_string = input('Enter a string:')\n",
    "    try:\n",
    "\n",
    "        user_number = int(input('Enter a number:'))\n",
    "        for i, letter in enumerate(user_string):\n",
    "            if user_number == i:\n",
    "                print(letter)\n",
    "\n",
    "    except ValueError:\n",
    "        print(\"That was not an appropriate number. Try again!\")\n",
    "\n",
    "\n",
    "except ValueError:\n",
    "    print(\"Something went wrong!\")\n"
   ]
  },
  {
   "cell_type": "markdown",
   "metadata": {},
   "source": [
    "## Practice block 3:\n",
    "\n",
    "1. Write a function that simulate a dice roll and returns the result from 1 to 6.\n",
    "2. Write a function that simulate 10_000 rolls and returns the number of times that the dice roll for each value\n",
    "3. Simulate an election for two candidates. Program should take amount of regions and rating for 1st candidate in each region (in percentage). Program should run election in every region. In every region, program should ask 10 000 voters. Candidate count as a winner if he gains more than 50% of all votes. Program should print the result of the election for each region and the winner\n",
    "\n",
    "    Example:\n",
    "\n",
    "    Enter number of regions: 2 \n",
    "\n",
    "    Enter rating for 1st candidate in each region: 34, 56\n",
    "\n",
    "    Region 1: 3456 votes for 1st candidate, 6544 votes for 2nd candidate\n",
    "\n",
    "    Region 2: 5623 votes for 1st candidate, 4356 votes for 2nd candidate\n",
    "\n",
    "    Result: 2nd candidate won with 10900 votes and 54.5% of all votes\n"
   ]
  },
  {
   "cell_type": "code",
   "execution_count": null,
   "metadata": {},
   "outputs": [],
   "source": [
    "# 1 \n",
    "import random\n",
    "\n",
    "def roll_dice():\n",
    "    print('Lets play a game!\\nA coin is tossed:')\n",
    "    roll = random.randint(1, 6)    \n",
    "    return roll\n",
    "\n",
    "print('Game result:', roll_dice())"
   ]
  },
  {
   "cell_type": "code",
   "execution_count": null,
   "metadata": {},
   "outputs": [],
   "source": [
    "# 2\n",
    "from itertools import count\n",
    "import random\n",
    "import matplotlib\n",
    "\n",
    "num_simulations = 10000\n",
    "\n",
    "def roll_dice(simulation):\n",
    "    count_1, count_2, count_3, count_4, count_5, count_6 = 0, 0, 0, 0, 0, 0\n",
    "\n",
    "\n",
    "    for i in range(simulation):\n",
    "        dice = random.randint(1,6)\n",
    "        if dice == 1: \n",
    "            count_1 += 1\n",
    "        if dice == 2: \n",
    "            count_2 += 1\n",
    "        if dice == 3: \n",
    "            count_3 += 1\n",
    "        if dice == 4: \n",
    "            count_4 += 1\n",
    "        if dice == 5: \n",
    "            count_5 += 1\n",
    "        if dice == 6: \n",
    "            count_6 += 1\n",
    "    return count_1, count_2, count_3, count_4, count_5, count_6\n",
    "\n",
    "count_1, count_2, count_3, count_4, count_5, count_6 = roll_dice(num_simulations)\n",
    "\n",
    "print(f\"Information about roll dices:\\ n 1:{count_1}\\n 2:{count_2}\\n 3:{count_3}\\n 4:{count_4}\\n 5:{count_5}\\n 6:{count_6}\")"
   ]
  },
  {
   "cell_type": "code",
   "execution_count": null,
   "metadata": {},
   "outputs": [],
   "source": [
    "# 3. Simulate an election for two candidates. Program should take amount of regions and rating for 1st candidate in each region (in percentage).\n",
    "#  Program should run election in every region. In every region, program should ask 10 000 voters.\n",
    "#   Candidate count as a winner if he gains more than 50% of all votes.\n",
    "#   Program should print the result of the election for each region and the winner\n",
    "\n",
    "#     Example:\n",
    "\n",
    "#     Enter number of regions: 2\n",
    "\n",
    "#     Enter rating for 1st candidate in each region: 34, 56\n",
    "\n",
    "#     Region 1: 3456 votes for 1st candidate, 6544 votes for 2nd candidate\n",
    "\n",
    "#     Region 2: 5623 votes for 1st candidate, 4356 votes for 2nd candidate\n",
    "\n",
    "#     Result: 2nd candidate won with 10900 votes and 54.5% of all votes\n",
    "\n",
    "\n",
    "import random\n",
    "quantiny_of_vouters = 10000\n",
    "count_votes_first, count_votes_second, resulted_quantity_first_votes, resulted_quantity_second_votes = 0, 0, 0, 0\n",
    "\n",
    "quantity_regions = int(input('\\nEnter number of regions:'))\n",
    "rating_first = input('Enter rating for 1st candidate in each region:')\n",
    "\n",
    "for count, rating in enumerate(rating_first.split(',')):\n",
    "    count_votes_first, count_votes_second = 0, 0\n",
    "    first_candidate_rating = int(rating)\n",
    "    second_candidate_rating = 100 - first_candidate_rating\n",
    "\n",
    "    for vote in range(1, quantiny_of_vouters+1):\n",
    "        prob_answer = random.randint(1, 100)\n",
    "\n",
    "        if prob_answer < first_candidate_rating:\n",
    "            count_votes_first += 1\n",
    "            resulted_quantity_first_votes += 1\n",
    "        else:\n",
    "            count_votes_second += 1\n",
    "            resulted_quantity_second_votes += 1\n",
    "\n",
    "    print(\n",
    "        f'Predicted rating for each candidate: {first_candidate_rating, second_candidate_rating}')\n",
    "    print(f'Region {count+1}:  {count_votes_first} votes for 1st candidate, {count_votes_second} votes for 2nd candidate')\n",
    "\n",
    "\n",
    "if (resulted_quantity_first_votes/(quantity_regions * quantiny_of_vouters)) * 100 > 50:\n",
    "    print(\n",
    "        f'\\n\\nResult: 1st candidate won with {resulted_quantity_first_votes} votes and {round((resulted_quantity_first_votes/(quantity_regions * quantiny_of_vouters)) * 100, 3)}% of all votes')\n",
    "else:\n",
    "    print(\n",
    "        f'\\n\\nResult: 2nd candidate won with {resulted_quantity_second_votes} votes and {round((resulted_quantity_second_votes/(quantity_regions * quantiny_of_vouters)) * 100, 3)}% of all votes')\n"
   ]
  },
  {
   "cell_type": "markdown",
   "metadata": {},
   "source": [
    "## Practice block 4\n",
    "\n",
    "1. Create a tuple with your first name, last name, and age.\n",
    "2. Print your last name using indexing.\n",
    "3. Create three variables in one line that extracted from tuple that you created in step 1.\n",
    "4. Print your name letter by letter from this tuple\n",
    "5. Create a new tuple that contains all info from the first tuple but remove first letter from all strings\n",
    "6. Create a tuple with two values. First one is (1, 2), second one is (3, 4).\n",
    "7. Create a program that calculates the sum of all values in the tuple and print it to the console."
   ]
  },
  {
   "cell_type": "code",
   "execution_count": null,
   "metadata": {},
   "outputs": [],
   "source": [
    "# 1 \n",
    "name = 'Yaroslava'\n",
    "surname = 'Mykhailenko'\n",
    "age = 20\n",
    "tpl = (name, surname, age)\n",
    "print(tpl)\n",
    "\n",
    "# 2 \n",
    "print(tpl[1])\n",
    "\n",
    "# 3\n",
    "tpl_1_elem, tpl_2_elem, tpl_3_elem = tpl[0], tpl[1], tpl[2]\n",
    "print(tpl_1_elem, tpl_2_elem, tpl_3_elem)\n",
    "\n",
    "# 4\n",
    "for letter in tpl[0]:\n",
    "    print(letter)\n",
    "\n",
    "# 5         \n",
    "lst = [] \n",
    "\n",
    "for element in tpl[:2]:\n",
    "    lst.append(element[1:])\n",
    "lst.append(age)\n",
    "\n",
    "new_tuple = tuple(lst)\n",
    "\n",
    "print(new_tuple)\n",
    "    \n",
    "\n",
    "# 6 \n",
    "_tuple = (1, 5), (6, 4)\n",
    "\n",
    "# 7\n",
    "# print(\"Sum of all values:\", sum(map(sum, list(_tuple))))\n",
    "\n",
    "sum = 0\n",
    "for i in _tuple:\n",
    "    for element in i:\n",
    "        sum += element\n",
    "print(\"Sum of all values:\", sum)\n",
    "\n"
   ]
  }
 ],
 "metadata": {
  "kernelspec": {
   "display_name": "Python 3.7.4 32-bit",
   "language": "python",
   "name": "python3"
  },
  "language_info": {
   "codemirror_mode": {
    "name": "ipython",
    "version": 3
   },
   "file_extension": ".py",
   "mimetype": "text/x-python",
   "name": "python",
   "nbconvert_exporter": "python",
   "pygments_lexer": "ipython3",
   "version": "3.7.4"
  },
  "orig_nbformat": 4,
  "vscode": {
   "interpreter": {
    "hash": "987e006abd5cecb161978c9f14601059913dc7f2e2f97dfe45898e5fe22c1153"
   }
  }
 },
 "nbformat": 4,
 "nbformat_minor": 2
}
