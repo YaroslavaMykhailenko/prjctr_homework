{
 "cells": [
  {
   "cell_type": "markdown",
   "metadata": {},
   "source": [
    "### Practice section 1\n",
    "\n",
    "1. Figure out the result of the following expressions:\n",
    "\n",
    "    a) (1 <= 1) and (1 != 1)\n",
    "\n",
    "    b) not (1 != 2)\n",
    "\n",
    "    c) (\"good\" != \"bad\") or False\n",
    "\n",
    "    d) (\"good\" != \"Good\") and not (1 == 1)\n",
    "2. Make all of them True by adding parentheses:\n",
    "\n",
    "    a) False == not True\n",
    "\n",
    "    b) True and False == True and False\n",
    "\n",
    "    c) not True and \"A\" == \"B\"\n",
    "\n"
   ]
  },
  {
   "cell_type": "code",
   "execution_count": null,
   "metadata": {},
   "outputs": [],
   "source": [
    "#   a) (1 <= 1) and (1 != 1) True and False  -> False\n",
    "#   b) not (1 != 2)  not True -> False\n",
    "#   c) (\"good\" != \"bad\") or False   True or False -> True\n",
    "#   d) (\"good\" != \"Good\") and not (1 == 1) True and not True -> False\n",
    "\n",
    "# 2. Make all of them True by adding parentheses:\n",
    "\n",
    "#   a) False == not (True)\n",
    "\n",
    "#   b) (True and False) == (True and False)\n",
    "\n",
    "#   c) not (True and (\"A\" == \"B\"))\n"
   ]
  },
  {
   "cell_type": "markdown",
   "metadata": {},
   "source": [
    "### Practice section 2\n",
    "\n",
    "1. Write a Python program that reads string representing a month and prints the season for that month. Get month from the user input.\n",
    "\n",
    "    Expected Output:\n",
    "\n",
    "    **Input the month:** october                     \n",
    "                                                     \n",
    "    Season is autumn\n",
    "\n",
    "\n",
    "2. Write a Python program to get next day of a given date. Get day, month and year from the user input.\n",
    "Expected Output:\n",
    "\n",
    "    **Input a year:** 2022                                                     \n",
    "    **Input a month [1-12]:** 8                                               \n",
    "    **Input a day [1-31]:** 23                                           \n",
    "    The next date is [yyyy-mm-dd] 2022-8-24\n",
    "\n",
    "3. Get a phrase from user input. Display whether the lenght of the string if longer than 5 characters, equal to 5 characters or shorter than 5 characters. Use if, elif, else for this.\n",
    "\n",
    "4. Get a positive number from user input. Find all factors of this number.\n",
    "    \n",
    "    Example:\n",
    "    - If the number is 6, the factors are: 1, 2, 3, 6\n",
    "    - If the number is 10, the factors are: 1, 2, 5, 10\n",
    "\n",
    "5. Write a Python program to check a triangle is equilateral, isosceles or scalene. Get all three sides from user input.\n",
    "\n",
    "    Note :\n",
    "    1. An equilateral triangle is a triangle in which all three sides are equal.\n",
    "    2. A scalene triangle is a triangle that has three unequal sides.\n",
    "    3. An isosceles triangle is a triangle with (at least) two equal sides."
   ]
  },
  {
   "cell_type": "code",
   "execution_count": null,
   "metadata": {},
   "outputs": [],
   "source": [
    "# 1. Write a Python program that reads string representing a month and prints the season for that month. Get month from the user input.\n",
    "\n",
    "month = input('Enter certain month:')\n",
    "\n",
    "if month == 'december' or month =='january' or month == 'february': \n",
    "    print('Now is winter')\n",
    "elif month == 'march' or month =='april' or month == 'may': \n",
    "    print('Now is spring')\n",
    "elif month == 'july' or month =='juny' or month == 'august': \n",
    "    print('Now is summer')\n",
    "elif month == 'september' or month =='october' or month == 'november': \n",
    "    print('Now is autumn')\n"
   ]
  },
  {
   "cell_type": "code",
   "execution_count": null,
   "metadata": {},
   "outputs": [],
   "source": [
    "# 2. Write a Python program to get next day of a given date. Get day, month and year from the user input.\n",
    "# Expected Output:\n",
    "\n",
    "year = int(input('Input a year:'))\n",
    "month = int(input('Input a month [1-12]:'))\n",
    "day = int(input('Input a day [1-31]:'))\n",
    "\n",
    "if month == 1 or month == 3 or month == 5 or month == 7 or month == 8 or month == 10:\n",
    "    if day < 31:\n",
    "        print('The next date is: ', year, '-', month, '-', day + 1)\n",
    "    elif day == 31:\n",
    "        print('The next date is: ', year, '-', month + 1, '-', 1)\n",
    "    else:\n",
    "        print('Wrong date')\n",
    "\n",
    "if month == 4 or month == 6 or month == 9 or month == 11:\n",
    "    if day < 30:\n",
    "        print('The next date is: ', year, '-', month, '-', day + 1)\n",
    "    elif day == 30:\n",
    "        print('The next date is: ', year, '-', month + 1, '-', 1)\n",
    "    else:\n",
    "        print('Wrong date')\n",
    "\n",
    "if month == 2:\n",
    "    if day < 28:\n",
    "        print('The next date is: ', year, '-', month, '-', day + 1)\n",
    "    elif day == 28:\n",
    "        print('The next date is: ', year, '-', month + 1, '-', 1)\n",
    "    else:\n",
    "        print('Wrong date')\n",
    "\n",
    "if month == 12:\n",
    "    if day < 31:\n",
    "        print('The next date is: ', year, '-', month, '-', day + 1)\n",
    "    elif day == 31:\n",
    "        print('The next date is: ', year + 1, '-', 1, '-', 1)\n",
    "    else:\n",
    "        print('Wrong date')\n"
   ]
  },
  {
   "cell_type": "code",
   "execution_count": null,
   "metadata": {},
   "outputs": [],
   "source": [
    "# 3. Get a phrase from user input. Display whether the lenght of the string if longer than 5 characters,\n",
    "#  equal to 5 characters or shorter than 5 characters. Use if, elif, else for this.\n",
    "\n",
    "user_phrase = input('Enter some string:')\n",
    "\n",
    "if len(user_phrase) > 5:\n",
    "    print('Your string longer than 5 characters')\n",
    "elif len(user_phrase) < 5:\n",
    "    print('Your string less than 5 characters')\n",
    "else: \n",
    "    print('Your string equals to 5 characters')"
   ]
  },
  {
   "cell_type": "code",
   "execution_count": null,
   "metadata": {},
   "outputs": [],
   "source": [
    "# 4. Get a positive number from user input. Find all factors of this number.\n",
    "\n",
    "number = int(input(\"Enter positive number: \"))\n",
    "factors = []\n",
    "if number > 0:\n",
    "    i = 1\n",
    "    while number >= i:   \n",
    "\n",
    "        if number % i == 0 :\n",
    "            factors.append(i)\n",
    "\n",
    "        i += 1  \n",
    "    print('Factors of this number:', factors)  \n",
    "else:\n",
    "    print(\"You entered negative number\")"
   ]
  },
  {
   "cell_type": "code",
   "execution_count": null,
   "metadata": {},
   "outputs": [],
   "source": [
    "# 5. Write a Python program to check a triangle is equilateral, isosceles or scalene. Get all three sides from user input.\n",
    "\n",
    "#     Note :\n",
    "#     1. An equilateral triangle is a triangle in which all three sides are equal.\n",
    "#     2. A scalene triangle is a triangle that has three unequal sides.\n",
    "#     3. An isosceles triangle is a triangle with (at least) two equal sides.\n",
    "\n",
    "print('Enter sides of triangle.\\n')\n",
    "first_side = int(input('Enter the first side:'))\n",
    "second_side = int(input('Enter the second side:'))\n",
    "third_side = int(input('Enter the third side:'))\n",
    "if (first_side == second_side) and  (first_side == third_side) and (second_side == third_side): \n",
    "    print('This is equilateral triangle')\n",
    "\n",
    "elif (first_side != second_side) and  (first_side != third_side) and (second_side != third_side):\n",
    "    print('This is scalene triangle')\n",
    "    \n",
    "else: \n",
    "    print('This is isosceles triangle')"
   ]
  },
  {
   "cell_type": "markdown",
   "metadata": {},
   "source": [
    "### Practice section 3:\n",
    "\n",
    "1.  Use a while loop that prints out the integers from 2 to 10\n",
    "\n",
    "3. Write a program that takes number as its input and doubles that number few times in a loop. Number of iterations and initial number should be taken from user input. You should display each result on a separate line. Here is some sample output:\n",
    "    ```\n",
    "    Input:\n",
    "    initial number: 2\n",
    "    number of iterations: 5\n",
    "\n",
    "    Output:\n",
    "    4\n",
    "    8\n",
    "    16\n",
    "    32\n",
    "    64\n",
    "    ```\n",
    "\n",
    "4. Write a program that always asks user to input somethings. Quit only if user inputs 'q', 'quit' or 'Q'."
   ]
  },
  {
   "cell_type": "code",
   "execution_count": null,
   "metadata": {},
   "outputs": [],
   "source": [
    "# 1.  Use a while loop that prints out the integers from 2 to 10\n",
    "integer = 2\n",
    "lst =[]\n",
    "\n",
    "while integer <= 10:\n",
    "    lst.append(integer)\n",
    "    integer += 1\n",
    "print(lst)"
   ]
  },
  {
   "cell_type": "code",
   "execution_count": null,
   "metadata": {},
   "outputs": [],
   "source": [
    "# 3. Write a program that takes number as its input and doubles that number few times in a loop. Number of iterations and initial number should be taken from user input. You should display each result on a separate line. Here is some sample output:\n",
    "\n",
    "initial_number = int(input('Enter initial number:'))\n",
    "iteration = int(input('Enter number of iterations:'))\n",
    "index = 1\n",
    "\n",
    "while  index <= iteration: \n",
    "    initial_number = initial_number * 2\n",
    "    print(initial_number)\n",
    "    index += 1\n"
   ]
  },
  {
   "cell_type": "code",
   "execution_count": null,
   "metadata": {},
   "outputs": [],
   "source": [
    "# 4. Write a program that always asks user to input somethings. Quit only if user inputs 'q', 'quit' or 'Q'.\n",
    "\n",
    "while True:\n",
    "    your_input = input('Enter something:')\n",
    "    if your_input == 'q' or your_input == 'quit' or your_input == 'Q':\n",
    "        break"
   ]
  }
 ],
 "metadata": {
  "kernelspec": {
   "display_name": "Python 3.7.4 32-bit",
   "language": "python",
   "name": "python3"
  },
  "language_info": {
   "codemirror_mode": {
    "name": "ipython",
    "version": 3
   },
   "file_extension": ".py",
   "mimetype": "text/x-python",
   "name": "python",
   "nbconvert_exporter": "python",
   "pygments_lexer": "ipython3",
   "version": "3.7.4"
  },
  "orig_nbformat": 4,
  "vscode": {
   "interpreter": {
    "hash": "987e006abd5cecb161978c9f14601059913dc7f2e2f97dfe45898e5fe22c1153"
   }
  }
 },
 "nbformat": 4,
 "nbformat_minor": 2
}
