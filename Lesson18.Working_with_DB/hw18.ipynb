{
 "cells": [
  {
   "cell_type": "markdown",
   "metadata": {},
   "source": [
    "## Practice\n",
    "\n",
    "1. Add models for student, subject and student_subject from previous lessons in SQLAlchemy.\n",
    "2. Find all students` name that visited 'English' classes "
   ]
  },
  {
   "cell_type": "markdown",
   "metadata": {},
   "source": [
    "```sql\n",
    "CREATE TABLE student(\n",
    "    id serial PRIMARY KEY,\n",
    "    name VARCHAR(50) NOT NULL,\n",
    "    age INT NOT NULL\n",
    ");\n",
    "\n",
    "CREATE TABLE subject(\n",
    "    id serial PRIMARY KEY,\n",
    "   \tname VARCHAR(50) NOT NULL\n",
    ");\n",
    "\n",
    "CREATE TABLE student_subject(\n",
    "    id serial PRIMARY KEY,\n",
    "   \tstudent_id INTEGER REFERENCES student(id),\n",
    "    subject_id INTEGER REFERENCES subject(id)\n",
    ");\n",
    "\n",
    "\n",
    "\n",
    "INSERT INTO student(name, age) VALUES('Bae', 18), ('Eddy', 21), ('Lily', 22), ('Jenny', 19);\n",
    "\n",
    "INSERT INTO subject(name) VALUES('English'), ('Spanish'), ('Chinese'), ('Math');\n",
    "\n",
    "INSERT INTO student_subject(student_id, subject_id) VALUES(1, 1), (1, 2), (2, 3), (3, 1), (4, 4);\n",
    "\n",
    "\n",
    "\n",
    "```\n"
   ]
  },
  {
   "cell_type": "code",
   "execution_count": 21,
   "metadata": {},
   "outputs": [],
   "source": [
    "from sqlalchemy.ext.declarative import declarative_base\n",
    "from sqlalchemy import Column, Integer, String, ForeignKey\n",
    "\n",
    "Base = declarative_base()\n",
    "\n",
    "\n",
    "class Student(Base):\n",
    "    __tablename__ = 'student'\n",
    "\n",
    "    id = Column(Integer, primary_key=True)\n",
    "    name = Column(String)\n",
    "    age = Column(Integer)\n",
    "\n",
    "    def __str__(self):\n",
    "        return f'This is a student {self.name}. Age: {self.age}'\n",
    "\n",
    "    def __repr__(self):\n",
    "        return f'This is a student {self.name}. Age: {self.age}'\n",
    "\n",
    "\n",
    "class Subject(Base):\n",
    "    __tablename__ = 'subject'\n",
    "\n",
    "    id = Column(Integer, primary_key=True)\n",
    "    name = Column(String)\n",
    "\n",
    "    def __str__(self):\n",
    "        return f'This is a name of the subject {self.name}'\n",
    "\n",
    "    def __repr__(self):\n",
    "        return f'This is a name of the subject {self.name}'\n",
    "\n",
    "\n",
    "class Student_Subject(Base):\n",
    "    __tablename__ = 'student_subject'\n",
    "\n",
    "    id = Column(Integer, primary_key=True)\n",
    "    student_id = Column(Integer, ForeignKey('student.id'))\n",
    "    subject_id = Column(Integer, ForeignKey('subject.id'))\n",
    "\n",
    "    def __str__(self):\n",
    "        return f'This is a name of the student {self.student_id} and subject that he/she attends {self.subject_id}'\n",
    "    def __repr__(self):\n",
    "        return f'This is a name of the student {self.student_id} and subject that he/she attends {self.subject_id}'\n",
    "\n"
   ]
  },
  {
   "cell_type": "code",
   "execution_count": 19,
   "metadata": {},
   "outputs": [],
   "source": [
    "from sqlalchemy.orm import sessionmaker\n",
    "from sqlalchemy import create_engine\n",
    "\n",
    "DATABASE_URI = 'postgresql://{user}:{password}@{host}:{port}/{database}'\n",
    "\n",
    "\n",
    "engine = create_engine(\n",
    "    DATABASE_URI.format(\n",
    "        host='localhost',\n",
    "        database='postgres',\n",
    "        user='postgres',\n",
    "        password='Slava270602',\n",
    "        port=5432,\n",
    "    )\n",
    ")\n",
    "\n",
    "Base.metadata.create_all(engine)\n",
    "Session = sessionmaker(bind=engine)\n",
    "session = Session()\n",
    "session.close()\n"
   ]
  },
  {
   "cell_type": "markdown",
   "metadata": {},
   "source": [
    "2. Find all students` name that visited 'English' classes \n",
    "\n",
    "```sql\n",
    "\n",
    "SELECT student.name, subject.name\n",
    "FROM student \n",
    "INNER JOIN student_subject ON student.id = student_subject.student_id\n",
    "INNER JOIN subject ON subject.id = student_subject.subject_id\n",
    "WHERE subject.name = 'English'\n",
    "\n",
    "```"
   ]
  },
  {
   "cell_type": "code",
   "execution_count": 24,
   "metadata": {},
   "outputs": [
    {
     "name": "stdout",
     "output_type": "stream",
     "text": [
      "[('Bae', 'English'), ('Lily', 'English')]\n"
     ]
    }
   ],
   "source": [
    "\n",
    "students_english = session.query(Student.name, Subject.name).join(\n",
    "                                Student_Subject, Student.id == Student_Subject.student_id\n",
    "                                ).join(Subject, Subject.id == Student_Subject.subject_id).filter(Subject.name == 'English').all()\n",
    "print(students_english)\n"
   ]
  }
 ],
 "metadata": {
  "kernelspec": {
   "display_name": "Python 3.7.4 32-bit",
   "language": "python",
   "name": "python3"
  },
  "language_info": {
   "codemirror_mode": {
    "name": "ipython",
    "version": 3
   },
   "file_extension": ".py",
   "mimetype": "text/x-python",
   "name": "python",
   "nbconvert_exporter": "python",
   "pygments_lexer": "ipython3",
   "version": "3.7.4"
  },
  "orig_nbformat": 4,
  "vscode": {
   "interpreter": {
    "hash": "987e006abd5cecb161978c9f14601059913dc7f2e2f97dfe45898e5fe22c1153"
   }
  }
 },
 "nbformat": 4,
 "nbformat_minor": 2
}
