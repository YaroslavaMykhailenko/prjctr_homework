{
 "cells": [
  {
   "cell_type": "markdown",
   "metadata": {},
   "source": [
    "## Practice\n",
    "\n",
    "1. Write a Python class named Circle constructed by a radius and two methods which will compute the area and the perimeter of a circle.\n",
    "2. Write a Python program to crate two empty classes, Student and Marks. Now create some instances and check whether they are instances of the said classes or not. Also, check whether the said classes are subclasses of the built-in object class or not.\n",
    "3. A Bank\n",
    "    1. Using the Account class as a base class, write two derived classes called SavingsAccount and CurrentAccount. A SavingsAccount object, in addition to the attributes of an Account object, should have an interest attribute and a method which adds interest to the account. A CurrentAccount object, in addition to the attributes of an Account object, should have an overdraft limit attribute.\n",
    "\n",
    "    2. Now create a Bank class, an object of which contains an array of Account objects. Accounts in the array could be instances of the Account class, the SavingsAccount class, or the CurrentAccount class. Create some test accounts (some of each type).\n",
    "\n",
    "    3. Write an update method in the Bank class. It iterates through each account, updating it in the following ways: Savings accounts get interest added (via the method you already wrote); CurrentAccounts get a letter sent if they are in overdraft. (use print to 'send' the letter).\n",
    "\n",
    "    4. The Bank class requires methods for opening and closing accounts, and for paying a dividend into each account."
   ]
  },
  {
   "cell_type": "markdown",
   "metadata": {},
   "source": [
    "1. Write a Python class named Circle constructed by a radius and two methods which will compute the area and the perimeter of a circle."
   ]
  },
  {
   "cell_type": "code",
   "execution_count": 20,
   "metadata": {},
   "outputs": [
    {
     "name": "stdout",
     "output_type": "stream",
     "text": [
      "Perimeter: 25.132741228718345\n",
      "Area og the circle: 50.26548245743669\n"
     ]
    }
   ],
   "source": [
    "import math\n",
    "\n",
    "class Circle:\n",
    "    def __init__(self, radius):\n",
    "        self.radius = radius \n",
    "\n",
    "    @property\n",
    "    def perimeter(self):\n",
    "        return 2 * math.pi * self.radius\n",
    "\n",
    "    @property\n",
    "    def area(self):\n",
    "        return math.pi * self.radius * self.radius\n",
    "\n",
    "c = Circle(4)\n",
    "print(f'Perimeter: {c.perimeter}')\n",
    "print(f'Area og the circle: {c.area}')"
   ]
  },
  {
   "cell_type": "markdown",
   "metadata": {},
   "source": [
    "2. Write a Python program to crate two empty classes, Student and Marks. Now create some instances and check whether they are instances of the said classes or not. Also, check whether the said classes are subclasses of the built-in object class or not."
   ]
  },
  {
   "cell_type": "code",
   "execution_count": 2,
   "metadata": {},
   "outputs": [
    {
     "name": "stdout",
     "output_type": "stream",
     "text": [
      "True\n",
      "True\n",
      "True\n",
      "False\n",
      "False\n",
      "False\n",
      "True\n",
      "True\n"
     ]
    }
   ],
   "source": [
    "\n",
    "class Marks:\n",
    "    pass  \n",
    "\n",
    "class Student:\n",
    "    def __init__(self, marks: list[Marks]):\n",
    "        self.marks = marks\n",
    "\n",
    "math_marks = Marks()\n",
    "history_marks = Marks()\n",
    "jonny_student = Student([math_marks, history_marks])\n",
    "\n",
    "print(isinstance(math_marks, Marks))\n",
    "print(isinstance(history_marks, Marks))\n",
    "print(isinstance(jonny_student, Student))\n",
    "print(isinstance(jonny_student, Marks))\n",
    "print(isinstance(history_marks, Student))\n",
    "print(isinstance(Student, Marks))\n",
    "print(isinstance(Marks, object))\n",
    "print(isinstance(Student, object))\n"
   ]
  },
  {
   "cell_type": "markdown",
   "metadata": {},
   "source": [
    "3. A Bank\n",
    "    1. Using the Account class as a base class, write two derived classes called SavingsAccount and CurrentAccount. A SavingsAccount object, in addition to the attributes of an Account object, should have an interest attribute and a method which adds interest to the account. A CurrentAccount object, in addition to the attributes of an Account object, should have an overdraft limit attribute.\n",
    "\n",
    "    2. Now create a Bank class, an object of which contains an array of Account objects. Accounts in the array could be instances of the Account class, the SavingsAccount class, or the CurrentAccount class. Create some test accounts (some of each type).\n",
    "\n",
    "    3. Write an update method in the Bank class. It iterates through each account, updating it in the following ways: Savings accounts get interest added (via the method you already wrote); CurrentAccounts get a letter sent if they are in overdraft. (use print to 'send' the letter).\n",
    "\n",
    "    4. The Bank class requires methods for opening and closing accounts, and for paying a dividend into each account.\n",
    "\n",
    "    Банк\n",
    "     1. Используя класс Account в качестве базового класса, напишите два производных класса с именами SavingsAccount и CurrentAccount. Объект SavingsAccount, в дополнение к атрибутам объекта Account, должен иметь атрибут процента и метод, добавляющий проценты к счету. Объект CurrentAccount, помимо атрибутов объекта Account, должен иметь атрибут предела овердрафта.\n",
    "\n",
    "     2. Теперь создайте класс Bank, объект которого содержит массив объектов Account. Счета в массиве могут быть экземплярами класса Account, класса SavingsAccount или класса CurrentAccount. Создайте несколько тестовых учетных записей (по несколько каждого типа).\n",
    "\n",
    "     3. Напишите метод обновления в классе Bank. Он перебирает каждую учетную запись, обновляя ее следующими способами: на сберегательные счета добавляются проценты (с помощью метода, который вы уже написали); CurrentAccounts получают письмо, отправленное, если они находятся в овердрафте. (используйте печать, чтобы «отправить» письмо).\n",
    "\n",
    "     4. Классу Bank требуются методы для открытия и закрытия счетов, а также для выплаты дивидендов на каждый счет."
   ]
  },
  {
   "cell_type": "code",
   "execution_count": 1,
   "metadata": {},
   "outputs": [
    {
     "name": "stdout",
     "output_type": "stream",
     "text": [
      "Account number: 270602, balance: 0.0\n",
      "Account number: 270602, balance: 20000\n",
      "Account number: 674534, balance: 250, interest:13\n",
      "Account number: 342134, balance: 1200.35, interest:13\n",
      "Account number: 34213435422, balance: -100, overdraft limit:1000\n",
      "Account number: 11112222, balance: 34.78, overdraft limit:10.1\n",
      "Message for account 34213435422: You are in overdraft!\n",
      "Account number: 674534, balance: 3500, interest:13\n",
      "Openning Account with acc number 567432 : [<__main__.SavingsAccount object at 0x000001F3F7F2F5B0>, <__main__.CurrentAccount object at 0x000001F3F7F2EE60>, <__main__.Account object at 0x000001F3F7F2EB90>, <__main__.Account object at 0x000001F3F7F2FA00>]\n",
      "Closing  Mono_account saving account with acc number 674534 : [<__main__.CurrentAccount object at 0x000001F3F7F2EE60>, <__main__.Account object at 0x000001F3F7F2EB90>, <__main__.Account object at 0x000001F3F7F2FA00>]\n"
     ]
    }
   ],
   "source": [
    "class Account:\n",
    "    def __init__(self, balance, account_number):\n",
    "        self._balance = balance\n",
    "        self._account_number = account_number\n",
    "\n",
    "    @classmethod\n",
    "    def create_account(cls, account_number):\n",
    "        return cls(0.0, account_number)\n",
    "\n",
    "    def deposit(self, amount):\n",
    "        if amount > 0:\n",
    "            self._balance += amount\n",
    "        else:\n",
    "            raise ValueError('Amount must be positive')\n",
    "\n",
    "    def withdraw(self, amount):\n",
    "        if amount > 0:\n",
    "            self._balance -= amount\n",
    "        else:\n",
    "            raise ValueError('Amount must be positive')\n",
    "\n",
    "    def get_balance(self):\n",
    "        return self._balance\n",
    "\n",
    "    def get_account_number(self):\n",
    "        return self._account_number\n",
    "\n",
    "    def __str__(self):\n",
    "        return f'Account number: {self._account_number}, balance: {self._balance}'\n",
    "\n",
    "# 1. Using the Account class as a base class , write two derived classes called SavingsAccount and CurrentAccount.\n",
    "# A SavingsAccount object, in addition to the attributes of an Account object, should have an interest attribute and a method which adds interest to the account.\n",
    "# A CurrentAccount object, in addition to the attributes of an Account object, should have an overdraft limit attribute.\n",
    "\n",
    "class SavingsAccount(Account):\n",
    "\n",
    "    def __init__(self, balance: float, account_number: int, interest=None):\n",
    "        super().__init__(balance, account_number)\n",
    "        self.interest = interest\n",
    "    \n",
    "    def interest_add(self, interest: float): \n",
    "        self._balance += self._balance * self.interest\n",
    "    \n",
    "    def __str__(self):\n",
    "        return f'Account number: {self._account_number}, balance: {self._balance}, interest:{self.interest}'\n",
    "\n",
    "class CurrentAccount(Account):\n",
    "\n",
    "    def __init__(self, balance: float, account_number: int, overdraft_limit: int):\n",
    "        super().__init__(balance, account_number)\n",
    "        self.overdraft_limit = overdraft_limit\n",
    "    \n",
    "    def __str__(self):\n",
    "        return f'Account number: {self._account_number}, balance: {self._balance}, overdraft limit:{self.overdraft_limit}'\n",
    "\n",
    "\n",
    "# 2. Now create a Bank class, an object of which contains an array of Account objects.\n",
    "# Accounts in the array could be instances of the Account class, the SavingsAccount class, or the CurrentAccount class.\n",
    "# Create some test accounts (some of each type).\n",
    "\n",
    "# 3. Write an update method in the Bank class . It iterates through each account, updating it in the following ways: Savings accounts get interest added(via the method you already wrote)\n",
    "# CurrentAccounts get a letter sent if they are in overdraft. (use print to 'send' the letter).\n",
    "\n",
    "# 4. The Bank class requires methods for opening and closing accounts, and for paying a dividend into each account.\n",
    "\n",
    "class Bank:\n",
    "    def __init__(self, accounts: list[Account]):\n",
    "        self.accounts = accounts\n",
    "\n",
    "    def update(self, interest):\n",
    "        for account in self.accounts:\n",
    "            if isinstance(account, SavingsAccount):  \n",
    "\n",
    "                # можливо я не так зрозуміла як потрібно додавати ставку тут \n",
    "                # може просто вже конкретно передавати ставку  account.interest_add(15)\n",
    "                account.interest_add(interest)\n",
    "            elif isinstance(account, CurrentAccount):\n",
    "\n",
    "                if account._balance < account.overdraft_limit:\n",
    "                    print(f'Message for account {account._account_number}: You are in overdraft!')\n",
    "\n",
    "    \n",
    "    def dividend_pay(self, dividend):\n",
    "        for account in self.accounts:\n",
    "            account._balance += dividend\n",
    "    \n",
    "    def open_acc(self, account_number):\n",
    "        new_acc = Account.create_account(account_number)\n",
    "        self.accounts.append(new_acc)\n",
    "    \n",
    "    def close_acc(self, account_number):\n",
    "        for account in self.accounts:\n",
    "            if account_number == account._account_number:\n",
    "                self.accounts.remove(account)\n",
    "\n",
    " \n",
    "Alisa_account = Account.create_account(270602)\n",
    "Alisa_account._balance = 20000\n",
    "print(Alisa_account)\n",
    "\n",
    "Mono_account = SavingsAccount(250, 674534, 13)\n",
    "print(Mono_account)\n",
    "Mono1_account = SavingsAccount(1200.35, 342134, 13)\n",
    "print(Mono1_account)\n",
    "\n",
    "Privat_account = CurrentAccount(-100, 34213435422, 1000)\n",
    "print(Privat_account)\n",
    "Swed_account = CurrentAccount(34.78, 11112222, 10.10)\n",
    "print(Swed_account)\n",
    "\n",
    "mybank = Bank([Mono_account, Privat_account, Alisa_account])\n",
    "mybank.update(interest=15)\n",
    "print(Mono_account)\n",
    "\n",
    "mybank.open_acc(567432)\n",
    "print(f\"Openning Account with acc number 567432 : {mybank.accounts}\")\n",
    "mybank.close_acc(674534)\n",
    "print(f\"Closing  Mono_account saving account with acc number 674534 : {mybank.accounts}\")\n",
    "\n"
   ]
  }
 ],
 "metadata": {
  "kernelspec": {
   "display_name": "Python 3.10.8 64-bit",
   "language": "python",
   "name": "python3"
  },
  "language_info": {
   "codemirror_mode": {
    "name": "ipython",
    "version": 3
   },
   "file_extension": ".py",
   "mimetype": "text/x-python",
   "name": "python",
   "nbconvert_exporter": "python",
   "pygments_lexer": "ipython3",
   "version": "3.10.8"
  },
  "orig_nbformat": 4,
  "vscode": {
   "interpreter": {
    "hash": "12bb727270fa18630f50b1a05a0c9922e660749ad827a42c79d82981cd9e00c9"
   }
  }
 },
 "nbformat": 4,
 "nbformat_minor": 2
}
