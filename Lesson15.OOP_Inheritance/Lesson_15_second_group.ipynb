{
  "cells": [
    {
      "cell_type": "markdown",
      "metadata": {
        "id": "N2u36rw4Zotf"
      },
      "source": [
        "## Inherit from another class\n",
        "\n",
        "### What is inheritance\n",
        "\n",
        "1. Child class\n",
        "2. Parent class\n",
        "3. Object class\n",
        "\n",
        "## \n",
        "\n",
        "1. Override\n",
        "2. Inherit"
      ]
    },
    {
      "cell_type": "code",
      "execution_count": null,
      "metadata": {
        "id": "iZ9Fyb98Zotz"
      },
      "outputs": [],
      "source": [
        "class Country(object):\n",
        "    pass\n",
        "\n",
        "# the same as\n",
        "\n",
        "class Country:\n",
        "    pass "
      ]
    },
    {
      "cell_type": "code",
      "execution_count": null,
      "metadata": {
        "id": "7EKQKHYJZot5"
      },
      "outputs": [],
      "source": [
        "isinstance(object, object)"
      ]
    },
    {
      "cell_type": "code",
      "execution_count": null,
      "metadata": {
        "id": "Ji6_IEN4Zot7"
      },
      "outputs": [],
      "source": [
        "c = Country()\n",
        "\n",
        "print(isinstance(c, object))"
      ]
    },
    {
      "cell_type": "code",
      "execution_count": null,
      "metadata": {
        "id": "wyIr9071Zot9"
      },
      "outputs": [],
      "source": [
        "print(isinstance(None, object))"
      ]
    },
    {
      "cell_type": "markdown",
      "metadata": {
        "id": "QpdwfVgjZot-"
      },
      "source": [
        "#### Parent vs Child class"
      ]
    },
    {
      "cell_type": "code",
      "execution_count": null,
      "metadata": {
        "id": "S1dqUpPrZot_"
      },
      "outputs": [],
      "source": [
        "class Country(object):\n",
        "    system = 'Common system' \n",
        "    \n",
        "    def __init__(self, name, population):\n",
        "        self.name = name\n",
        "        self.population = population\n",
        "\n",
        "    # magic method\n",
        "    def __str__(self):\n",
        "        return f'Country: {self.name} with population {self.population}'\n",
        "\n",
        "    def make_declaration(self, speech):\n",
        "        return f'{self.name} declare: {speech}'"
      ]
    },
    {
      "cell_type": "code",
      "execution_count": null,
      "metadata": {
        "id": "dbsJoc4zZouC"
      },
      "outputs": [],
      "source": [
        "class Republic(Country):\n",
        "    pass"
      ]
    },
    {
      "cell_type": "code",
      "execution_count": null,
      "metadata": {
        "id": "z40bh6OCZouE"
      },
      "outputs": [],
      "source": [
        "congo = Republic('Congo', 5_000_000)"
      ]
    },
    {
      "cell_type": "code",
      "execution_count": null,
      "metadata": {
        "id": "oiXwGT_UZouG"
      },
      "outputs": [],
      "source": [
        "congo.population"
      ]
    },
    {
      "cell_type": "code",
      "execution_count": null,
      "metadata": {
        "id": "AmApmnhkZouH"
      },
      "outputs": [],
      "source": [
        "congo.name"
      ]
    },
    {
      "cell_type": "code",
      "execution_count": null,
      "metadata": {
        "id": "f3UsasofZouJ"
      },
      "outputs": [],
      "source": [
        "print(congo)"
      ]
    },
    {
      "cell_type": "code",
      "execution_count": null,
      "metadata": {
        "id": "VJ0uAM0wZouK"
      },
      "outputs": [],
      "source": [
        "class Republic(Country):\n",
        "    system = 'Republic system'\n",
        "\n",
        "\n",
        "class Federation(Country):\n",
        "    system = 'Federation system' \n"
      ]
    },
    {
      "cell_type": "code",
      "execution_count": null,
      "metadata": {
        "id": "AWrBrJtcZouL"
      },
      "outputs": [],
      "source": [
        "germany = Federation('Germany', 80_000_000)\n",
        "korea = Republic('Korea', 50_000_000)"
      ]
    },
    {
      "cell_type": "code",
      "execution_count": null,
      "metadata": {
        "id": "3abatjhnZouN"
      },
      "outputs": [],
      "source": [
        "print('Germany: ', germany.system, 'Name:', germany.name)\n",
        "print('Korea: ', korea.system, 'Name:', korea.name)"
      ]
    },
    {
      "cell_type": "code",
      "execution_count": null,
      "metadata": {
        "id": "ZHAmLI6PZouO"
      },
      "outputs": [],
      "source": [
        "dir(korea)"
      ]
    },
    {
      "cell_type": "code",
      "execution_count": null,
      "metadata": {
        "id": "Ir5VRXVzZouO"
      },
      "outputs": [],
      "source": [
        "print(type(germany))"
      ]
    },
    {
      "cell_type": "code",
      "execution_count": null,
      "metadata": {
        "id": "PY85ua03ZouP"
      },
      "outputs": [],
      "source": [
        "print(isinstance(germany, Federation))\n",
        "print(isinstance(germany, Republic))\n",
        "print(isinstance(germany, Country))\n",
        "print(isinstance(germany, object))"
      ]
    },
    {
      "cell_type": "markdown",
      "metadata": {
        "id": "afcLX-3cZouR"
      },
      "source": [
        "### Extending functionality of a parent class"
      ]
    },
    {
      "cell_type": "code",
      "execution_count": null,
      "metadata": {
        "id": "UpYmwNUuZouS"
      },
      "outputs": [],
      "source": [
        "class Empire(Country):\n",
        "    system = 'Empire system'\n",
        "\n",
        "    def __init__(self, name, population, lifetime):\n",
        "        super().__init__(name, population)\n",
        "        self.lifetime = lifetime\n",
        "    \n",
        "    def fail(self):\n",
        "        declaration = super().make_declaration('We fail!')\n",
        "        print(declaration)\n",
        "        print('The end')\n",
        "        print('¯7_(ツ)_/¯')"
      ]
    },
    {
      "cell_type": "code",
      "execution_count": null,
      "metadata": {
        "id": "ZmYxDuffZouU"
      },
      "outputs": [],
      "source": [
        "russia = Empire('russia', 140_000_000, 30)\n",
        "russia.fail()"
      ]
    },
    {
      "cell_type": "markdown",
      "metadata": {
        "id": "paTasWfjZouV"
      },
      "source": [
        "## Multiple inheritance"
      ]
    },
    {
      "cell_type": "code",
      "execution_count": null,
      "metadata": {
        "id": "hoZzLS8IZouW"
      },
      "outputs": [],
      "source": [
        "class A():\n",
        "    pass\n",
        "\n",
        "class B():\n",
        "    pass\n",
        "\n",
        "class C(A, B):\n",
        "    pass"
      ]
    },
    {
      "cell_type": "markdown",
      "metadata": {
        "id": "v2HHo6rDZouX"
      },
      "source": [
        "![Mutiple](images/OOP/multiple.jpg)"
      ]
    },
    {
      "cell_type": "code",
      "execution_count": null,
      "metadata": {
        "id": "NI99OPe3ZouX"
      },
      "outputs": [],
      "source": [
        "class A:\n",
        "    pass\n",
        "\n",
        "class B(A):\n",
        "    pass\n",
        "\n",
        "class C(B):\n",
        "    pass"
      ]
    },
    {
      "cell_type": "markdown",
      "metadata": {
        "id": "b_JPNYqBZouY"
      },
      "source": [
        "![multilevel](images/OOP/multilevel.jpg)"
      ]
    },
    {
      "cell_type": "code",
      "execution_count": null,
      "metadata": {
        "id": "trLwFb9_ZouY"
      },
      "outputs": [],
      "source": [
        "class A:\n",
        "    pass\n",
        "\n",
        "class B(A):\n",
        "    pass\n",
        "\n",
        "class C(A):\n",
        "    pass\n",
        "\n",
        "class D(B, C):\n",
        "    pass\n",
        "\n",
        "\n",
        "# mro = [D, B, C, A]\n"
      ]
    },
    {
      "cell_type": "markdown",
      "metadata": {
        "id": "eqcRD8mnZouZ"
      },
      "source": [
        "![Diamond](images/OOP/diamond.png)"
      ]
    },
    {
      "cell_type": "code",
      "execution_count": null,
      "metadata": {
        "id": "S_F6fLJKZoua"
      },
      "outputs": [],
      "source": [
        "D.mro()"
      ]
    },
    {
      "cell_type": "markdown",
      "metadata": {
        "id": "aP5xZspVZoua"
      },
      "source": [
        "#### Composition"
      ]
    },
    {
      "cell_type": "code",
      "execution_count": null,
      "metadata": {
        "id": "gplLciFJZoub"
      },
      "outputs": [],
      "source": [
        "class Statement:\n",
        "    pass\n",
        "\n",
        "class Law(Statement):\n",
        "    pass\n",
        "\n",
        "class Union:\n",
        "    def __init__(self, creation_date: int, countries: list[Country], law: Law):\n",
        "        self.countries  = countries\n",
        "        self.law = law\n",
        "        self.creation_date = creation_date\n"
      ]
    },
    {
      "cell_type": "code",
      "execution_count": null,
      "metadata": {
        "id": "WjutZeNoZoub"
      },
      "outputs": [],
      "source": [
        "class Wheel:\n",
        "    pass\n",
        "\n",
        "class Vehicle:\n",
        "    pass\n",
        "\n",
        "class Ship(Vehicle):\n",
        "    pass\n",
        "\n",
        "class Bus(Vehicle):\n",
        "    def __init__(self, wheels: list[Wheel]):\n",
        "        self.wheels = wheels\n"
      ]
    },
    {
      "cell_type": "code",
      "execution_count": null,
      "metadata": {
        "id": "URJUV9cvZouc"
      },
      "outputs": [],
      "source": [
        "spain = Country('Spain', 44_000_000)\n",
        "eu_law = Law()\n",
        "european_union = Union(1956, [germany, spain], eu_law)\n",
        "european_union2 = Union(1956, [germany, spain], eu_law)\n",
        "for i, country in enumerate(european_union.countries):\n",
        "    print(f'Member number: {i+1} country.name: {country.name}')\n",
        "print(f'Created an union on {european_union.creation_date}')\n"
      ]
    },
    {
      "cell_type": "markdown",
      "metadata": {
        "id": "cbB_KUV0Zoud"
      },
      "source": [
        "### Example"
      ]
    },
    {
      "cell_type": "code",
      "execution_count": null,
      "metadata": {
        "id": "CanHfKhTZoud"
      },
      "outputs": [],
      "source": [
        "## Rectangle vs Square ?\n",
        "\n",
        "class Rectangle:\n",
        "    def __init__(self, length, height):\n",
        "        self._length = length\n",
        "        self._height = height\n",
        "\n",
        "    @property\n",
        "    def area(self):\n",
        "        return self._length * self._height"
      ]
    },
    {
      "cell_type": "code",
      "execution_count": null,
      "metadata": {
        "id": "bK6eUfiGZoue"
      },
      "outputs": [],
      "source": [
        "class Square(Rectangle):\n",
        "    def __init__(self, side_size):\n",
        "        super().__init__(side_size, side_size)"
      ]
    },
    {
      "cell_type": "code",
      "execution_count": null,
      "metadata": {
        "id": "rE8Ad9MiZouf"
      },
      "outputs": [],
      "source": [
        "s = Square(3)"
      ]
    },
    {
      "cell_type": "code",
      "execution_count": null,
      "metadata": {
        "id": "YsqxIUODZouf"
      },
      "outputs": [],
      "source": [
        "s.area"
      ]
    },
    {
      "cell_type": "code",
      "execution_count": null,
      "metadata": {
        "id": "5H4LHj1LZoug"
      },
      "outputs": [],
      "source": [
        "rectangle = Rectangle(2, 4)\n",
        "assert rectangle.area == 8"
      ]
    },
    {
      "cell_type": "code",
      "execution_count": null,
      "metadata": {
        "id": "0p-SPY54Zoug"
      },
      "outputs": [],
      "source": [
        "square = Square(2)\n",
        "assert square.area == 4"
      ]
    },
    {
      "cell_type": "code",
      "execution_count": null,
      "metadata": {
        "id": "i4LOJFDkZouh"
      },
      "outputs": [],
      "source": [
        "class Rectangle:\n",
        "    def __init__(self, length, height):\n",
        "        self._length = length\n",
        "        self._height = height\n",
        "\n",
        "    @property\n",
        "    def area(self):\n",
        "        return self._length * self._height\n",
        "\n",
        "    def resize(self, new_length, new_height):\n",
        "        self._length = new_length\n",
        "        self._height = new_height\n",
        "        \n",
        "\n",
        "class Square(Rectangle):\n",
        "    def __init__(self, side_size):\n",
        "        super().__init__(side_size, side_size)"
      ]
    },
    {
      "cell_type": "code",
      "execution_count": null,
      "metadata": {
        "id": "7Lyyzpl4Zouh"
      },
      "outputs": [],
      "source": [
        "rectangle = Rectangle(2, 4)\n",
        "\n",
        "rectangle.resize(3, 5)\n",
        "print(rectangle.area == 15)"
      ]
    },
    {
      "cell_type": "code",
      "execution_count": null,
      "metadata": {
        "id": "I93PzxqTZoui"
      },
      "outputs": [],
      "source": [
        "square = Square(2)\n",
        "square.resize(3, 5)\n",
        "print(f'Square area: {square.area}')"
      ]
    },
    {
      "cell_type": "code",
      "execution_count": null,
      "metadata": {
        "id": "X_YiWXHSZoui"
      },
      "outputs": [],
      "source": [
        "class Square:\n",
        "    def __init__(self, length):\n",
        "        self._length = length\n",
        "\n",
        "    @property\n",
        "    def area(self):\n",
        "        return self._length * self._length\n",
        "    \n",
        "        \n",
        "class Rectangle(Square):\n",
        "    def __init__(self, length, weight):\n",
        "        super().__init__()"
      ]
    },
    {
      "cell_type": "markdown",
      "metadata": {
        "id": "ssJHB1XSZouj"
      },
      "source": [
        "\n",
        "\n",
        "1. Liskov principle is a principle that states that if S is a subtype of T, then objects of type T can be replaced with objects of type S without altering the correctness of the program. \n",
        "\n",
        "After that, we should evaluate the following principles:\n",
        "\n",
        "**Evaluate B is an A:** Think about this relationship and justify it. Does it make sense?\n",
        "\n",
        "**Evaluate A is a B:** Reverse the relationship and justify it. Does it also make sense?\n",
        "\n",
        "If you can justify both relationships, then you should never inherit those classes from one another.\n"
      ]
    },
    {
      "cell_type": "code",
      "execution_count": null,
      "metadata": {
        "id": "hTXK0MiXZouk"
      },
      "outputs": [],
      "source": [
        "class Mark:\n",
        "    pass\n",
        "\n",
        "class Student:\n",
        "    def __init__(self, marks: list[Mark]) -> None:\n",
        "        self.marks = marks"
      ]
    },
    {
      "cell_type": "markdown",
      "metadata": {
        "id": "xtn9s3uNZouk"
      },
      "source": [
        "## Practice\n",
        "\n",
        "1. Write a Python class named Circle constructed by a radius and two methods which will compute the area and the perimeter of a circle.\n",
        "2. Write a Python program to crate two empty classes, Student and Marks. Now create some instances and check whether they are instances of the said classes or not. Also, check whether the said classes are subclasses of the built-in object class or not.\n",
        "3. A Bank\n",
        "    1. Using the Account class as a base class, write two derived classes called SavingsAccount and CurrentAccount. A SavingsAccount object, in addition to the attributes of an Account object, should have an interest attribute and a method which adds interest to the account. A CurrentAccount object, in addition to the attributes of an Account object, should have an overdraft limit attribute.\n",
        "\n",
        "    2. Now create a Bank class, an object of which contains an array of Account objects. Accounts in the array could be instances of the Account class, the SavingsAccount class, or the CurrentAccount class. Create some test accounts (some of each type).\n",
        "\n",
        "    3. Write an update method in the Bank class. It iterates through each account, updating it in the following ways: Savings accounts get interest added (via the method you already wrote); CurrentAccounts get a letter sent if they are in overdraft. (use print to 'send' the letter).\n",
        "\n",
        "    4. The Bank class requires methods for opening and closing accounts, and for paying a dividend into each account."
      ]
    },
    {
      "cell_type": "code",
      "execution_count": null,
      "metadata": {
        "id": "Bm1kItMGZoul"
      },
      "outputs": [],
      "source": [
        "class Account:\n",
        "    def __init__(self, balance, account_number):\n",
        "        self._balance = balance\n",
        "        self._account_number = account_number\n",
        "    \n",
        "    @classmethod\n",
        "    def create_account(cls, account_number):\n",
        "        return cls(0.0, account_number)\n",
        "    \n",
        "    def deposit(self, amount):\n",
        "        if amount > 0:\n",
        "            self._balance += amount\n",
        "        else:\n",
        "            raise ValueError('Amount must be positive')\n",
        "\n",
        "    def withdraw(self, amount):\n",
        "        if amount > 0:\n",
        "            self._balance -= amount\n",
        "        else:\n",
        "            raise ValueError('Amount must be positive')\n",
        "\n",
        "    def get_balance(self):\n",
        "        return self._balance\n",
        "    \n",
        "    def get_account_number(self):\n",
        "        return self._account_number\n",
        "    \n",
        "    def __str__(self):\n",
        "        return f'Account number: {self._account_number}, balance: {self._balance}'\n"
      ]
    },
    {
      "cell_type": "markdown",
      "metadata": {
        "id": "ALiPgLFBZoum"
      },
      "source": [
        "### Materials\n",
        "\n",
        "1. [What is class](https://realpython.com/python3-object-oriented-programming/)\n",
        "2. [Inheritance](https://realpython.com/inheritance-composition-python/)"
      ]
    }
  ],
  "metadata": {
    "colab": {
      "provenance": []
    },
    "kernelspec": {
      "display_name": "Python 3.7.4 32-bit",
      "language": "python",
      "name": "python3"
    },
    "language_info": {
      "codemirror_mode": {
        "name": "ipython",
        "version": 3
      },
      "file_extension": ".py",
      "mimetype": "text/x-python",
      "name": "python",
      "nbconvert_exporter": "python",
      "pygments_lexer": "ipython3",
      "version": "3.7.4"
    },
    "orig_nbformat": 4,
    "vscode": {
      "interpreter": {
        "hash": "987e006abd5cecb161978c9f14601059913dc7f2e2f97dfe45898e5fe22c1153"
      }
    }
  },
  "nbformat": 4,
  "nbformat_minor": 0
}
