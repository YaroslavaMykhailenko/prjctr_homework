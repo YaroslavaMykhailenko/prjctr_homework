{
  "cells": [
    {
      "cell_type": "markdown",
      "metadata": {
        "id": "gRJLwLA3XuE8"
      },
      "source": [
        "# File\n",
        "\n",
        "## What is a file?\n",
        "\n",
        "1. Header\n",
        "2. Data\n",
        "3. EOF\n",
        "\n"
      ]
    },
    {
      "cell_type": "markdown",
      "metadata": {
        "id": "jYYv_DymXuFB"
      },
      "source": [
        "## File Paths\n",
        "\n",
        "1. Nested Folders\n",
        "2. File name\n",
        "3. Extension\n",
        "\n",
        "**module/filename.txt**"
      ]
    },
    {
      "cell_type": "markdown",
      "metadata": {
        "id": "xAXmH3u-XuFC"
      },
      "source": [
        "## Character Encoding\n",
        "\n",
        "1. ASCII\n",
        "2. UTF-8\n",
        "3. UTF-16\n",
        "4. UTF-32\n",
        "5. Unicode"
      ]
    },
    {
      "cell_type": "code",
      "execution_count": null,
      "metadata": {
        "id": "TtibpFExXuFD"
      },
      "outputs": [],
      "source": [
        "# Encode to UTF-8\n",
        "\n",
        "'Hello World'.encode()"
      ]
    },
    {
      "cell_type": "code",
      "execution_count": null,
      "metadata": {
        "id": "iy2cOxjzXuFF"
      },
      "outputs": [],
      "source": [
        "# Encode to UTF-8\n",
        "\n",
        "'Привіт, світ!'.encode()"
      ]
    },
    {
      "cell_type": "code",
      "execution_count": null,
      "metadata": {
        "id": "eToPkAq8XuFG"
      },
      "outputs": [],
      "source": [
        "'Привіт, світ!'.encode('ascii')"
      ]
    },
    {
      "cell_type": "code",
      "execution_count": null,
      "metadata": {
        "id": "BORNaRbrXuFG"
      },
      "outputs": [],
      "source": [
        "\"😀\".encode('utf-8')"
      ]
    },
    {
      "cell_type": "markdown",
      "metadata": {
        "id": "NkPmGsiIXuFH"
      },
      "source": [
        "## Line ending\n",
        "\n",
        "1. LF (Line Feed) (\\n)\n",
        "2. CR (Carriage Return) (\\r)\n",
        "3. EOL (EOL) (\\r\\n)"
      ]
    },
    {
      "cell_type": "markdown",
      "metadata": {
        "id": "6ap1Pjy0XuFI"
      },
      "source": [
        "## Open and Close files\n",
        "\n"
      ]
    },
    {
      "cell_type": "code",
      "execution_count": null,
      "metadata": {
        "id": "hRpC-uwsXuFJ"
      },
      "outputs": [],
      "source": [
        "# open(file_path, mode)\n",
        "\n",
        "file = open('hello.txt')"
      ]
    },
    {
      "cell_type": "code",
      "execution_count": null,
      "metadata": {
        "id": "dIhlZ6iOXuFJ"
      },
      "outputs": [],
      "source": [
        "file"
      ]
    },
    {
      "cell_type": "markdown",
      "metadata": {
        "id": "5NaqbRbbXuFK"
      },
      "source": [
        "## Open modes\n",
        "\n",
        "1. r - read\n",
        "2. w - write\n",
        "3. a - append\n",
        "4. rb - read binary\n",
        "5. wb - write binary\n",
        "6. ab - append binary\n",
        "7. r+ - read and write\n",
        "8. w+ - write and read\n",
        "9. a+ - append and read\n"
      ]
    },
    {
      "cell_type": "code",
      "execution_count": null,
      "metadata": {
        "id": "-0zZovrBXuFK"
      },
      "outputs": [],
      "source": [
        "file = open(\"hello.txt\", mode=\"w\")"
      ]
    },
    {
      "cell_type": "code",
      "execution_count": null,
      "metadata": {
        "id": "BEAMAF4RXuFK"
      },
      "outputs": [],
      "source": [
        "file"
      ]
    },
    {
      "cell_type": "code",
      "execution_count": null,
      "metadata": {
        "id": "AUQUoHsoXuFL"
      },
      "outputs": [],
      "source": [
        "file.write(\"Hello, World!\")"
      ]
    },
    {
      "cell_type": "code",
      "execution_count": null,
      "metadata": {
        "id": "MA3-mfFtXuFL"
      },
      "outputs": [],
      "source": [
        "file.close()"
      ]
    },
    {
      "cell_type": "code",
      "execution_count": null,
      "metadata": {
        "id": "COD4-vQYXuFL"
      },
      "outputs": [],
      "source": [
        "file"
      ]
    },
    {
      "cell_type": "code",
      "execution_count": null,
      "metadata": {
        "id": "iNR2U7G1XuFL"
      },
      "outputs": [],
      "source": [
        "file.write(\"\\nHello, World!\")"
      ]
    },
    {
      "cell_type": "markdown",
      "metadata": {
        "id": "qsxryQdjXuFM"
      },
      "source": [
        "## Context manager"
      ]
    },
    {
      "cell_type": "code",
      "execution_count": null,
      "metadata": {
        "id": "SpLTF9pAXuFM"
      },
      "outputs": [],
      "source": [
        "file = open(\"file.txt\", \"w\")\n",
        "\n",
        "try:\n",
        "    file.write(\"Hello, World!\")\n",
        "except Exception as e:\n",
        "    print(f\"Error: {e}\")\n",
        "finally:\n",
        "    file.close()\n"
      ]
    },
    {
      "cell_type": "code",
      "execution_count": null,
      "metadata": {
        "id": "pDshFGfiXuFM"
      },
      "outputs": [],
      "source": [
        "# > enter a context .__enter__()\n",
        "with open('file.txt', 'w') as file:\n",
        "    file.write('OLA')\n",
        "\n",
        "print()\n",
        "# leave the context .__exit__()"
      ]
    },
    {
      "cell_type": "code",
      "execution_count": null,
      "metadata": {
        "id": "7z7T33hKXuFM"
      },
      "outputs": [],
      "source": [
        "from decimal import Decimal, localcontext\n",
        "\n",
        "print(Decimal('1.00') / Decimal('3.00'))\n",
        "\n",
        "with localcontext() as ctx:\n",
        "    ctx.prec = 4\n",
        "    print(Decimal('1.00') / Decimal('3.00'))\n",
        "\n",
        "print(Decimal('1.00') / Decimal('3.00'))"
      ]
    },
    {
      "cell_type": "code",
      "execution_count": null,
      "metadata": {
        "id": "c7lc-Gm6XuFN"
      },
      "outputs": [],
      "source": [
        "from datetime import datetime\n",
        "\n",
        "datetime.now() # -> 08/10/22 12.19\n",
        "\n",
        "with freeze_time('08/10/21 12.19') as freeze:\n",
        "    datetime.now() # -> 08/10/21 12.19\n",
        "\n",
        "datetime.now() # -> 08/10/22 12.19"
      ]
    },
    {
      "cell_type": "code",
      "execution_count": null,
      "metadata": {
        "id": "cCJVmhdOXuFN"
      },
      "outputs": [],
      "source": [
        "with open('input.txt', 'r') as input_file, open('output.txt', 'w') as output_file:\n",
        "    data = input_file.read()\n",
        "    output_file.write(data)"
      ]
    },
    {
      "cell_type": "markdown",
      "metadata": {
        "id": "PpSeFPYLXuFN"
      },
      "source": [
        "## Reading from the file"
      ]
    },
    {
      "cell_type": "code",
      "execution_count": null,
      "metadata": {
        "id": "DTKtErp-XuFN"
      },
      "outputs": [],
      "source": [
        "with open('existing_file.txt', 'r') as file:\n",
        "    text = file.read()"
      ]
    },
    {
      "cell_type": "code",
      "execution_count": null,
      "metadata": {
        "id": "Yxq_R31TXuFO"
      },
      "outputs": [],
      "source": [
        "text"
      ]
    },
    {
      "cell_type": "code",
      "execution_count": null,
      "metadata": {
        "id": "jJDj4ixCXuFO"
      },
      "outputs": [],
      "source": [
        "print(text)"
      ]
    },
    {
      "cell_type": "code",
      "execution_count": 4,
      "metadata": {
        "id": "Myezst6LXuFO"
      },
      "outputs": [
        {
          "ename": "FileNotFoundError",
          "evalue": "[Errno 2] No such file or directory: 'existing_file.txt'",
          "output_type": "error",
          "traceback": [
            "\u001b[1;31m---------------------------------------------------------------------------\u001b[0m",
            "\u001b[1;31mFileNotFoundError\u001b[0m                         Traceback (most recent call last)",
            "\u001b[1;32m~\\AppData\\Local\\Temp\\ipykernel_15272\\3821456159.py\u001b[0m in \u001b[0;36m<module>\u001b[1;34m\u001b[0m\n\u001b[1;32m----> 1\u001b[1;33m \u001b[1;32mwith\u001b[0m \u001b[0mopen\u001b[0m\u001b[1;33m(\u001b[0m\u001b[1;34m'existing_file.txt'\u001b[0m\u001b[1;33m,\u001b[0m \u001b[1;34m'r'\u001b[0m\u001b[1;33m)\u001b[0m \u001b[1;32mas\u001b[0m \u001b[0mfile\u001b[0m\u001b[1;33m:\u001b[0m\u001b[1;33m\u001b[0m\u001b[1;33m\u001b[0m\u001b[0m\n\u001b[0m\u001b[0;32m      2\u001b[0m     \u001b[1;32mfor\u001b[0m \u001b[0mline\u001b[0m \u001b[1;32min\u001b[0m \u001b[0mfile\u001b[0m\u001b[1;33m:\u001b[0m\u001b[1;33m\u001b[0m\u001b[1;33m\u001b[0m\u001b[0m\n\u001b[0;32m      3\u001b[0m         \u001b[0mprint\u001b[0m\u001b[1;33m(\u001b[0m\u001b[0mline\u001b[0m\u001b[1;33m,\u001b[0m \u001b[0mend\u001b[0m\u001b[1;33m=\u001b[0m\u001b[1;34m''\u001b[0m\u001b[1;33m)\u001b[0m\u001b[1;33m\u001b[0m\u001b[1;33m\u001b[0m\u001b[0m\n",
            "\u001b[1;31mFileNotFoundError\u001b[0m: [Errno 2] No such file or directory: 'existing_file.txt'"
          ]
        }
      ],
      "source": [
        "with open('existing_file.txt', 'r') as file:\n",
        "    for line in file:\n",
        "        print(line, end='')"
      ]
    },
    {
      "cell_type": "code",
      "execution_count": null,
      "metadata": {
        "id": "ao54Y3d1XuFO"
      },
      "outputs": [],
      "source": [
        "with open('existing_file.txt', 'r') as file:\n",
        "    print(file.readlines())"
      ]
    },
    {
      "cell_type": "code",
      "execution_count": 2,
      "metadata": {
        "id": "tJLzmsvSXuFO"
      },
      "outputs": [
        {
          "ename": "FileNotFoundError",
          "evalue": "[Errno 2] No such file or directory: 'existing_file.txt'",
          "output_type": "error",
          "traceback": [
            "\u001b[1;31m---------------------------------------------------------------------------\u001b[0m",
            "\u001b[1;31mFileNotFoundError\u001b[0m                         Traceback (most recent call last)",
            "\u001b[1;32m~\\AppData\\Local\\Temp\\ipykernel_15272\\726304556.py\u001b[0m in \u001b[0;36m<module>\u001b[1;34m\u001b[0m\n\u001b[1;32m----> 1\u001b[1;33m \u001b[1;32mwith\u001b[0m \u001b[0mopen\u001b[0m\u001b[1;33m(\u001b[0m\u001b[1;34m'existing_file.txt'\u001b[0m\u001b[1;33m,\u001b[0m \u001b[1;34m'r'\u001b[0m\u001b[1;33m)\u001b[0m \u001b[1;32mas\u001b[0m \u001b[0mfile\u001b[0m\u001b[1;33m:\u001b[0m\u001b[1;33m\u001b[0m\u001b[1;33m\u001b[0m\u001b[0m\n\u001b[0m\u001b[0;32m      2\u001b[0m     \u001b[0mprint\u001b[0m\u001b[1;33m(\u001b[0m\u001b[0mfile\u001b[0m\u001b[1;33m.\u001b[0m\u001b[0mreadline\u001b[0m\u001b[1;33m(\u001b[0m\u001b[1;33m)\u001b[0m\u001b[1;33m)\u001b[0m\u001b[1;33m\u001b[0m\u001b[1;33m\u001b[0m\u001b[0m\n\u001b[0;32m      3\u001b[0m     \u001b[0mprint\u001b[0m\u001b[1;33m(\u001b[0m\u001b[0mfile\u001b[0m\u001b[1;33m.\u001b[0m\u001b[0mreadline\u001b[0m\u001b[1;33m(\u001b[0m\u001b[1;33m)\u001b[0m\u001b[1;33m)\u001b[0m\u001b[1;33m\u001b[0m\u001b[1;33m\u001b[0m\u001b[0m\n",
            "\u001b[1;31mFileNotFoundError\u001b[0m: [Errno 2] No such file or directory: 'existing_file.txt'"
          ]
        }
      ],
      "source": [
        "with open('existing_file.txt', 'r') as file:\n",
        "    print(file.readline())\n",
        "    print(file.readline())"
      ]
    },
    {
      "cell_type": "code",
      "execution_count": null,
      "metadata": {
        "id": "dB7c7_oZXuFO"
      },
      "outputs": [],
      "source": [
        "file.readline()"
      ]
    },
    {
      "cell_type": "markdown",
      "metadata": {
        "id": "O7qGirlKXuFP"
      },
      "source": [
        "## Writing to files "
      ]
    },
    {
      "cell_type": "code",
      "execution_count": 1,
      "metadata": {
        "id": "CMhv7Q7QXuFP"
      },
      "outputs": [],
      "source": [
        "with open('file.txt', 'w') as file:\n",
        "    file.write('”I have great faith in fools — self-confidence my friends call it.”\\n')"
      ]
    },
    {
      "cell_type": "code",
      "execution_count": 3,
      "metadata": {
        "id": "Y1_tGyQyXuFP"
      },
      "outputs": [],
      "source": [
        "with open('file.txt', 'w') as file:\n",
        "    file.write('End of the file')"
      ]
    },
    {
      "cell_type": "code",
      "execution_count": null,
      "metadata": {
        "id": "ntuVQVXwXuFP"
      },
      "outputs": [],
      "source": [
        "with open('file.txt', 'a') as file:\n",
        "    file.write('\\n“Either define the moment or the moment will define you.”')"
      ]
    },
    {
      "cell_type": "code",
      "execution_count": null,
      "metadata": {
        "id": "SkMDTZNPXuFP"
      },
      "outputs": [],
      "source": [
        "second_coming = [\n",
        "    'Turning and turning in the widening gyre\\n',\n",
        "    'The falcon cannot hear the falconer;\\n',\n",
        "    'Things fall apart; the centre cannot hold;\\n',\n",
        "    'Mere anarchy is loosed upon the world,\\n',\n",
        "    'The blood-dimmed tide is loosed, and everywhere\\n',  \n",
        "    'The ceremony of innocence is drowned;\\n',\n",
        "    'The best lack all conviction, while the worst\\n',\n",
        "    'Are full of passionate intensity.\\n',\n",
        "]\n",
        "\n",
        "with open('new_file.txt', mode=\"w\", encoding=\"utf-8\") as file:\n",
        "    file.writelines(second_coming)"
      ]
    },
    {
      "cell_type": "code",
      "execution_count": null,
      "metadata": {
        "id": "X6yazgCLXuFQ"
      },
      "outputs": [],
      "source": [
        "with open('folder/file.txt', mode='w') as file:\n",
        "    file.write('Hello')"
      ]
    },
    {
      "cell_type": "markdown",
      "metadata": {
        "id": "53la7JCGXuFQ"
      },
      "source": [
        "## Practice\n",
        "\n",
        "1. \n",
        "    1. Write a program that generate 26 text files named A.txt, B.txt, and so on up to Z.txt.\n",
        "    2. To each file append a random number between 1 and 100.\n",
        "    3. Create a summary file (summary.txt) that contains name of the file and number in that file:\n",
        "\n",
        "        A.txt: 67\n",
        "\n",
        "        B.txt: 12\n",
        "\n",
        "        ...\n",
        "        \n",
        "        Z.txt: 98\n",
        "\n",
        "2. \n",
        "    1. Create file with some content. As example you can take this one\n",
        "    ```\n",
        "        Тому що ніколи тебе не вирвеш,\n",
        "        ніколи не забереш,\n",
        "        тому що вся твоя свобода\n",
        "        складається з меж,\n",
        "        тому що в тебе немає\n",
        "        жодного вантажу,\n",
        "        тому що ти ніколи не слухаєш,\n",
        "        оскільки знаєш і так,\n",
        "        що я скажу,\n",
        "    ```\n",
        "    2. Create second file and copy content of the first file to the second file in upper case.\n",
        "\n"
      ]
    },
    {
      "cell_type": "markdown",
      "metadata": {
        "id": "6ZcJVRS3XuFQ"
      },
      "source": [
        "## Working with CSV"
      ]
    },
    {
      "cell_type": "code",
      "execution_count": null,
      "metadata": {
        "id": "rh0hKCXnXuFQ"
      },
      "outputs": [],
      "source": [
        "import csv"
      ]
    },
    {
      "cell_type": "code",
      "execution_count": null,
      "metadata": {
        "id": "WjJGNXlHXuFQ"
      },
      "outputs": [],
      "source": [
        "countries = [\n",
        "    ['Kyiv', 42_000_000, 603_000, 'Ukraine'],\n",
        "    ['Warsaw', 38_000_000, 312_000, 'Poland'],\n",
        "    ['Washington', 520_000_000, 5_500_000, 'USA'],\n",
        "    ['Paris', 67_000_000, 592_000, 'France'],\n",
        "]"
      ]
    },
    {
      "cell_type": "code",
      "execution_count": null,
      "metadata": {
        "id": "AOmm4mKUXuFR"
      },
      "outputs": [],
      "source": [
        "with open('countries.csv', 'w') as file:\n",
        "    writer = csv.writer(file, delimiter='|')\n",
        "    for country in countries:\n",
        "        writer.writerow(country)"
      ]
    },
    {
      "cell_type": "code",
      "execution_count": null,
      "metadata": {
        "id": "vkuPVT_rXuFR"
      },
      "outputs": [],
      "source": [
        "with open('countries.csv', mode='w') as file:\n",
        "    writer = csv.writer(file)\n",
        "    writer.writerow(['Capital', 'Population', 'Square', 'Country'])\n",
        "    writer.writerows(countries)"
      ]
    },
    {
      "cell_type": "markdown",
      "metadata": {
        "id": "gLxICbAIXuFR"
      },
      "source": [
        "### Reading"
      ]
    },
    {
      "cell_type": "code",
      "execution_count": null,
      "metadata": {
        "id": "8ky3pALaXuFR"
      },
      "outputs": [],
      "source": [
        "### How add column names?\n",
        "\n",
        "with open('countries.csv', mode='r') as file:\n",
        "    reader = csv.reader(file)\n",
        "    for row in reader:\n",
        "        print(row)"
      ]
    },
    {
      "cell_type": "markdown",
      "metadata": {
        "id": "fHnkLAH2XuFR"
      },
      "source": [
        "### What about column names?"
      ]
    },
    {
      "cell_type": "code",
      "execution_count": null,
      "metadata": {
        "id": "Lq5FxdovXuFR"
      },
      "outputs": [],
      "source": [
        "with open('countries.csv', mode='w') as file:\n",
        "    writer = csv.writer(file)\n",
        "    writer.writerow(['Capital', 'Population', 'Area', 'Name'])\n",
        "    writer.writerows(countries)"
      ]
    },
    {
      "cell_type": "code",
      "execution_count": null,
      "metadata": {
        "id": "_U6U-I8cXuFR"
      },
      "outputs": [],
      "source": [
        "with open('countries_2.csv', mode='w') as file:\n",
        "    fieldnames = ['Capital', 'Population', 'Area', 'Name']\n",
        "    writer = csv.DictWriter(file, fieldnames=fieldnames)\n",
        "\n",
        "    writer.writeheader()\n",
        "    writer.writerow({'Capital': 'Kyiv', 'Population': 42_000_000, 'Area': 603_000, 'Name': 'Ukraine'})\n",
        "    writer.writerow({'Capital': 'Warsaw', 'Population': 38_000_000, 'Area': 312_000, 'Name': 'Poland'})\n",
        "    writer.writerow({'Capital': 'Washington', 'Population': 520_000_000, 'Area': 5_500_000, 'Name': 'USA'})\n",
        "    writer.writerow({'Capital': 'Paris', 'Population': 67_000_000, 'Area': 592_000, 'Name': 'France'})\n"
      ]
    },
    {
      "cell_type": "code",
      "execution_count": null,
      "metadata": {
        "id": "mvArRHzsXuFS"
      },
      "outputs": [],
      "source": [
        "countries = [\n",
        "    {'Capital': 'Kyiv', 'Population': 42_000_000, 'Area': 603_000, 'Name': 'Ukraine'},\n",
        "    {'Capital': 'Warsaw', 'Population': 38_000_000, 'Area': 312_000, 'Name': 'Poland'},\n",
        "    {'Capital': 'Washington', 'Population': 520_000_000, 'Area': 5_500_000, 'Name': 'USA'},\n",
        "    {'Capital': 'Paris', 'Population': 67_000_000, 'Area': 592_000, 'Name': 'France'},\n",
        "    {'Capital': 'Paris', 'Population': 67_000_000, 'Name': 'France', },\n",
        "]\n",
        "header = ['Capital', 'Population', 'Area', 'Name' ]\n",
        "with open('countries.csv', mode='w') as file:\n",
        "    writer = csv.DictWriter(file, fieldnames=header)\n",
        "\n",
        "    writer.writeheader()\n",
        "    writer.writerows(countries)\n",
        "    "
      ]
    },
    {
      "cell_type": "code",
      "execution_count": 5,
      "metadata": {
        "id": "uzfzXUm7XuFS"
      },
      "outputs": [
        {
          "ename": "FileNotFoundError",
          "evalue": "[Errno 2] No such file or directory: 'countries.csv'",
          "output_type": "error",
          "traceback": [
            "\u001b[1;31m---------------------------------------------------------------------------\u001b[0m",
            "\u001b[1;31mFileNotFoundError\u001b[0m                         Traceback (most recent call last)",
            "\u001b[1;32m~\\AppData\\Local\\Temp\\ipykernel_15272\\315419482.py\u001b[0m in \u001b[0;36m<module>\u001b[1;34m\u001b[0m\n\u001b[0;32m      1\u001b[0m \u001b[1;31m### How add column names?\u001b[0m\u001b[1;33m\u001b[0m\u001b[1;33m\u001b[0m\u001b[1;33m\u001b[0m\u001b[0m\n\u001b[0;32m      2\u001b[0m \u001b[1;33m\u001b[0m\u001b[0m\n\u001b[1;32m----> 3\u001b[1;33m \u001b[1;32mwith\u001b[0m \u001b[0mopen\u001b[0m\u001b[1;33m(\u001b[0m\u001b[1;34m'countries.csv'\u001b[0m\u001b[1;33m,\u001b[0m \u001b[0mmode\u001b[0m\u001b[1;33m=\u001b[0m\u001b[1;34m'r'\u001b[0m\u001b[1;33m)\u001b[0m \u001b[1;32mas\u001b[0m \u001b[0mfile\u001b[0m\u001b[1;33m:\u001b[0m\u001b[1;33m\u001b[0m\u001b[1;33m\u001b[0m\u001b[0m\n\u001b[0m\u001b[0;32m      4\u001b[0m     \u001b[0mreader\u001b[0m \u001b[1;33m=\u001b[0m \u001b[0mcsv\u001b[0m\u001b[1;33m.\u001b[0m\u001b[0mDictReader\u001b[0m\u001b[1;33m(\u001b[0m\u001b[0mfile\u001b[0m\u001b[1;33m)\u001b[0m\u001b[1;33m\u001b[0m\u001b[1;33m\u001b[0m\u001b[0m\n\u001b[0;32m      5\u001b[0m     \u001b[0mprint\u001b[0m\u001b[1;33m(\u001b[0m\u001b[0mreader\u001b[0m\u001b[1;33m.\u001b[0m\u001b[0mfieldnames\u001b[0m\u001b[1;33m)\u001b[0m\u001b[1;33m\u001b[0m\u001b[1;33m\u001b[0m\u001b[0m\n",
            "\u001b[1;31mFileNotFoundError\u001b[0m: [Errno 2] No such file or directory: 'countries.csv'"
          ]
        }
      ],
      "source": [
        "### How add column names?\n",
        "\n",
        "with open('countries.csv', mode='r') as file:\n",
        "    reader = csv.DictReader(file)\n",
        "    print(reader.fieldnames)\n",
        "    for row in reader:\n",
        "        print(row)"
      ]
    },
    {
      "cell_type": "markdown",
      "metadata": {
        "id": "cL3s-pWnXuFS"
      },
      "source": [
        "## Practice\n",
        "\n",
        "3. Write a program that will simulate user score in a game. Create a list with 5 player's names. After that simulate 100 games for each player. As a result of the game create a list with player's name and his score (0-1000 range). And save it to a CSV file. File should looks like this:\n",
        "    ```\n",
        "    Player name, Score\n",
        "    Josh, 56\n",
        "    Luke, 784\n",
        "    Kate, 90\n",
        "    Mark, 125\n",
        "    Mary, 877\n",
        "    Josh, 345\n",
        "    ...\n",
        "    ```\n",
        "\n",
        "4. Write a script that reads the data from previous CSV file and creates a new file called high_scores.csv where each row contains the player name and their highest score. Final score should sorted by descending of highest score\n",
        "\n",
        "The output CSV file should look like this:\n",
        "\n",
        "    \n",
        "    Player name, Highest score\n",
        "    Kate, 907\n",
        "    Mary, 897\n",
        "    Luke, 784\n",
        "    Mark, 725\n",
        "    Josh, 345\n",
        "    "
      ]
    }
  ],
  "metadata": {
    "colab": {
      "provenance": []
    },
    "kernelspec": {
      "display_name": "Python 3.7.4 32-bit",
      "language": "python",
      "name": "python3"
    },
    "language_info": {
      "codemirror_mode": {
        "name": "ipython",
        "version": 3
      },
      "file_extension": ".py",
      "mimetype": "text/x-python",
      "name": "python",
      "nbconvert_exporter": "python",
      "pygments_lexer": "ipython3",
      "version": "3.7.4"
    },
    "orig_nbformat": 4,
    "vscode": {
      "interpreter": {
        "hash": "987e006abd5cecb161978c9f14601059913dc7f2e2f97dfe45898e5fe22c1153"
      }
    }
  },
  "nbformat": 4,
  "nbformat_minor": 0
}
