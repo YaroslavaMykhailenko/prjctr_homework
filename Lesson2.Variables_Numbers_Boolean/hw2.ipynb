{
 "cells": [
  {
   "cell_type": "markdown",
   "metadata": {},
   "source": [
    "### Homework Mykhailenko Yaroslava\n",
    "\n",
    "1. Написати програму яка отримує від користувача два числа. Вивести ці два числа в консоль."
   ]
  },
  {
   "cell_type": "code",
   "execution_count": null,
   "metadata": {},
   "outputs": [],
   "source": [
    "number_one_input = input('Enter first number:')\n",
    "number_two_input = input('\\nEnter second number:')\n",
    "print('User entered two numbers:', number_one_input, ',', number_two_input)"
   ]
  },
  {
   "cell_type": "markdown",
   "metadata": {},
   "source": [
    "2. В попередній програмі дописати команди для знаходження мінімальної цифри і вивести мінімум в консоль"
   ]
  },
  {
   "cell_type": "code",
   "execution_count": null,
   "metadata": {},
   "outputs": [],
   "source": [
    "min_of_two_numbers = min(number_one_input, number_two_input)\n",
    "print('Minimum number between inputed: ', min_of_two_numbers)"
   ]
  },
  {
   "cell_type": "markdown",
   "metadata": {},
   "source": [
    "3. Додати підтримку float значень"
   ]
  },
  {
   "cell_type": "code",
   "execution_count": null,
   "metadata": {},
   "outputs": [],
   "source": [
    "number_one_input = float(input('Enter first number:'))\n",
    "number_two_input = float(input('\\nEnter second number:'))\n",
    "\n",
    "print(f'User entered two numbers: {number_one_input}, {number_two_input}')"
   ]
  },
  {
   "cell_type": "markdown",
   "metadata": {},
   "source": [
    "4. Додати функціонал по знаходженню степені числа. Перше число є базою, друге - ступенем. Вивести результат в консоль у форматі \"а в b степені це c\""
   ]
  },
  {
   "cell_type": "code",
   "execution_count": null,
   "metadata": {},
   "outputs": [],
   "source": [
    "pow_operation = pow(number_one_input, number_two_input)\n",
    "print(f\"The result of raising the first number({number_one_input}) to the power of the second({number_two_input}):\", pow_operation)"
   ]
  },
  {
   "cell_type": "markdown",
   "metadata": {},
   "source": [
    "5. Написати скрипт, який отримує 2 числа від користувача через команду input. Провести операцію складення і множення цих значень і вивести результат найбільшої операції."
   ]
  },
  {
   "cell_type": "code",
   "execution_count": null,
   "metadata": {},
   "outputs": [],
   "source": [
    "sum_opertion = number_one_input + number_two_input\n",
    "multiply_opertion = number_one_input * number_two_input\n",
    "\n",
    "print(f\"Result of summary: {number_one_input} + {number_two_input} = \", sum_opertion)\n",
    "print(f\"Result of miltiplication: {number_one_input} * {number_two_input} = \", multiply_opertion)\n",
    "print(f\"Result of the largest operation: \", max(sum_opertion, multiply_opertion))"
   ]
  },
  {
   "cell_type": "markdown",
   "metadata": {},
   "source": [
    "0. How to understand that number is an integer?"
   ]
  },
  {
   "cell_type": "code",
   "execution_count": null,
   "metadata": {},
   "outputs": [],
   "source": [
    "number = 3\n",
    "\n",
    "print(type(number))  # перевірити тип змінної за допомогою функції type()"
   ]
  },
  {
   "cell_type": "markdown",
   "metadata": {},
   "source": [
    "1. Write a program that get 2 numbers from the use. Print to the console their difference.\n",
    "\n",
    "    Enter first number: 5\n",
    "\n",
    "    Enter second number: 3\n",
    "\n",
    "    Difference is 2 "
   ]
  },
  {
   "cell_type": "code",
   "execution_count": null,
   "metadata": {},
   "outputs": [],
   "source": [
    "first_input = int(input('Enter first number:'))\n",
    "second_input = int(input('\\nEnter second number:'))\n",
    "print(f'User entered two numbers: {first_input}, {second_input}')\n",
    "\n",
    "print('Difference is: ', first_input % second_input)"
   ]
  },
  {
   "cell_type": "markdown",
   "metadata": {},
   "source": [
    "2. Write a program that get 3 digit number from the user and reverse it.\n",
    "\n",
    "    Enter a number: 123\n",
    "\n",
    "    Reversed number is 321\n",
    "\n",
    "You can use only numbers and their operators."
   ]
  },
  {
   "cell_type": "code",
   "execution_count": null,
   "metadata": {},
   "outputs": [],
   "source": [
    "number_input = int(input('Enter 3 digit number:'))\n",
    "reversed_number = int(str(number_input)[::-1])  #  пока не додумалась, как сделать через мат операторы, поэтому сделала через слайсовые операции :()\n",
    "\n",
    "print('Reversed to inputed number is: ', reversed_number)\n"
   ]
  },
  {
   "cell_type": "markdown",
   "metadata": {},
   "source": [
    "3. (Optional Very Hard) Explain why 0.1 + 0.2 != 0.3\n",
    "\n",
    "Ответ: Точно не знаю, но обьяснение этому всему кроется в преставлении чисел с плавающей запятой. Зависит от точности представления, 32/64 бита. Преобразовав эти числа в виде типа 0100001010101.. двоичный код, что ли,  и потом сложив числа между собой, можно получить некий остаток в конце 0.300.."
   ]
  }
 ],
 "metadata": {
  "kernelspec": {
   "display_name": "Python 3.7.4 32-bit",
   "language": "python",
   "name": "python3"
  },
  "language_info": {
   "codemirror_mode": {
    "name": "ipython",
    "version": 3
   },
   "file_extension": ".py",
   "mimetype": "text/x-python",
   "name": "python",
   "nbconvert_exporter": "python",
   "pygments_lexer": "ipython3",
   "version": "3.7.4"
  },
  "orig_nbformat": 4,
  "vscode": {
   "interpreter": {
    "hash": "987e006abd5cecb161978c9f14601059913dc7f2e2f97dfe45898e5fe22c1153"
   }
  }
 },
 "nbformat": 4,
 "nbformat_minor": 2
}
