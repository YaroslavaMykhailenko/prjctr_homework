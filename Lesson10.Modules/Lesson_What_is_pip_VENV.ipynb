{
  "cells": [
    {
      "cell_type": "markdown",
      "metadata": {
        "id": "k6utJnA7B6xH"
      },
      "source": [
        "# PIP\n",
        "\n",
        "## What is PIP?\n",
        "\n",
        "**PIP** it’s a tool that allows you to install and manage libraries and dependencies that aren’t distributed as part of the standard library. It’s a package manager for Python. \n"
      ]
    },
    {
      "cell_type": "markdown",
      "metadata": {
        "id": "mmvLfqTvB6xP"
      },
      "source": [
        "Checking  that PIP is available:\n",
        "\n",
        "> which pip3\n",
        "\n",
        "\n",
        "Running pip into exact file:\n",
        "\n",
        "> python3 -m pip"
      ]
    },
    {
      "cell_type": "markdown",
      "metadata": {
        "id": "msZo3-jjB6xR"
      },
      "source": [
        "## Virtual environment\n",
        "\n",
        "Venv provides an isolated Python interpreter for your project. Any packages that you use inside this environment will be independent of your system interpreter. This means that you can keep your project’s dependencies separate from other projects and the system at large.\n"
      ]
    },
    {
      "cell_type": "markdown",
      "metadata": {
        "id": "2dbSUzFgB6xS"
      },
      "source": [
        "> python3 -m venv venv_name\n",
        ">\n",
        "> source venv_name/bin/activate\n",
        ">\n",
        ">\n",
        "> pip3 --version\n",
        ">\n",
        "> pip --version\n"
      ]
    },
    {
      "cell_type": "markdown",
      "metadata": {
        "id": "ciHfGaPcB6xT"
      },
      "source": [
        "## Fixing problems with pip\n",
        "\n",
        "> zsh: command not found: pip\n",
        "\n",
        "1. Try to use pip3 instead of pip\n",
        "2. Check pip in $PATH\n",
        "\n",
        "> echo $PATH\n",
        "\n",
        "if not in the path you can try method from official [documentation](https://pip.pypa.io/en/stable/installation/#supported-methods). This command will install pip if does not installed yet/\n",
        "\n",
        "> python -m ensurepip --upgrade"
      ]
    },
    {
      "cell_type": "markdown",
      "metadata": {
        "id": "HF1Fws0EB6xV"
      },
      "source": [
        "## Installing packages\n",
        "\n",
        "Python is considered a batteries included language. This means that the Python standard library contains an extensive set of packages and modules to help developers with their coding projects.\n",
        "\n",
        "At the same time, Python has an active community that contributes an even more extensive set of packages that can help you with your development needs. These packages are published to the Python Package Index, also known as PyPI.\n",
        "\n",
        "PyPI hosts an extensive collection of packages, including development frameworks, tools, and libraries. Many of these packages provide friendly interfaces to the Python standard library’s functionality\n",
        "\n",
        "https://pypi.org/"
      ]
    },
    {
      "cell_type": "markdown",
      "metadata": {
        "id": "V1GpulC9B6xY"
      },
      "source": [
        "### Check existing libraries \n",
        "\n",
        "> pip list\n",
        "\n",
        "### install last version\n",
        "\n",
        "> python3 -m pip install requests\n",
        "\n",
        "### install specific version\n",
        "\n",
        "> python3 -m pip install oauth2client==2.2.0\n",
        "\n",
        "### install few packages\n",
        "\n",
        "> python3 -m pip install requests oauth2client google-api-python-client\n",
        "\n",
        "### Check lib details \n",
        "\n",
        "> python3 -m pip show requests\n",
        "\n"
      ]
    },
    {
      "cell_type": "markdown",
      "metadata": {
        "id": "0cw-q8ZPB6xa"
      },
      "source": [
        "## Install from other sources\n",
        "\n",
        "> python3 -m pip install -i https://test.pypi.org/simple/ aapns\n",
        "\n",
        "If you need to use an alternative source permanently, you can add it to your pip [configuration file](https://pip.pypa.io/en/stable/topics/configuration/). You can find your config path here:\n",
        "\n",
        "> python3 -m pip config list -vv"
      ]
    },
    {
      "cell_type": "markdown",
      "metadata": {
        "id": "ZOuWiXMLB6xb"
      },
      "source": [
        "## Install from GitHub\n",
        "\n",
        "How to find package path\n",
        "\n",
        "> pip install git+https://github.com/psf/requests"
      ]
    },
    {
      "cell_type": "markdown",
      "metadata": {
        "id": "-ureXpyjB6xc"
      },
      "source": [
        "### Install in editable mode\n",
        "\n",
        "> git clone git@github.com:psf/requests.git\n",
        "\n",
        "> cd requests\n",
        "\n",
        "> python3 -m venv venv_name\n",
        "\n",
        "> source venv_name/bin/activate\n",
        "\n",
        "> python3 -m pip install -e .\n"
      ]
    },
    {
      "cell_type": "markdown",
      "metadata": {
        "id": "6pfJkh3DB6xd"
      },
      "source": [
        "## Requirements Files\n",
        "\n",
        "### Freezing\n",
        "\n",
        "> python3 -m pip freeze > requirements.txt\n",
        "\n",
        "\n",
        "What it consist\n",
        "\n",
        "package_name==x.y.z\n",
        "\n",
        "x - major version\n",
        "\n",
        "y - minor version\n",
        "\n",
        "z - patch version\n",
        "\n",
        "Example uwsgi==2.0.*\n",
        "\n",
        "### Tune\n",
        "\n",
        "1. Replace == with >=\n",
        "2. Add maximum version: lxml>=2.2.0,<2.3.0\n",
        "\n",
        "\n",
        "### Install \n",
        "\n",
        "> python3 -m pip install -U -r requirements.txt\n",
        "\n"
      ]
    },
    {
      "cell_type": "markdown",
      "metadata": {
        "id": "cXraXtRtB6xe"
      },
      "source": [
        "## Uninstall \n",
        "\n",
        "> python3 -m pip uninstall requests\n",
        "\n",
        "Suppress question\n",
        "\n",
        "> python3 -m pip uninstall requests -y\n",
        "\n",
        "Unistall few packages:\n",
        "\n",
        "> pip uninstall -y requests google-api-python-client\n",
        "\n",
        "Uninstall all packages:\n",
        "\n",
        "> python3 -m pip uninstall -r requirements.txt -y"
      ]
    },
    {
      "cell_type": "markdown",
      "metadata": {
        "id": "UT5k3zFrB6xf"
      },
      "source": [
        "### Alternatives\n",
        "\n",
        "1. Conda\n",
        "\n",
        "Conda is a package, dependency, and environment manager for many languages, including Python. It comes from Anaconda, which started as a data science package for Python. Consequently, it’s widely used for data science and machine learning applications. Conda operates its own index to host compatible packages.\n",
        "\n",
        "https://repo.anaconda.com/\n",
        "\n",
        "2. Pipenv\n",
        "\n",
        "Pipenv is another package management tool that merges virtual environment and package management in a single tool. \n",
        "\n",
        "\n",
        "3. Poetry\n",
        "\n",
        "Poetry goes beyond package management, helping you build distributions for your applications and libraries and deploying them to PyPI.\n",
        "\n",
        "\n"
      ]
    },
    {
      "cell_type": "markdown",
      "metadata": {
        "id": "eFdHX4uZB6xf"
      },
      "source": [
        "## Practice\n",
        "\n",
        "1. Create a virtual environment\n",
        "2. Install numpy package in the virtual environment (version 1.22.4 or higher, but lower than 2.0.0)\n",
        "3. Generete a requirements.txt file\n",
        "4. Write a script that imports numpy. Execute code from their site (https://numpy.org/) and run it on local computer\n",
        "5. As a result, you should send screenshot and archive with venv, requirements.txt and numpy.py"
      ]
    }
  ],
  "metadata": {
    "colab": {
      "provenance": []
    },
    "kernelspec": {
      "display_name": "Python 3.7.4 32-bit",
      "language": "python",
      "name": "python3"
    },
    "language_info": {
      "name": "python",
      "version": "3.7.4"
    },
    "orig_nbformat": 4,
    "vscode": {
      "interpreter": {
        "hash": "987e006abd5cecb161978c9f14601059913dc7f2e2f97dfe45898e5fe22c1153"
      }
    }
  },
  "nbformat": 4,
  "nbformat_minor": 0
}
