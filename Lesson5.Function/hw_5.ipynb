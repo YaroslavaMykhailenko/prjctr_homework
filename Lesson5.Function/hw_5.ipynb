{
 "cells": [
  {
   "cell_type": "markdown",
   "metadata": {},
   "source": [
    "### Practice section 1:\n",
    "\n",
    "1. Write a program that caluculate Fibonacci series. The Fibonacci series is a series of numbers in which each number is the sum of the two preceding numbers. The first two numbers are 1 and 1. The third number is 1 + 1 = 2, the fourth number is 1 + 2 = 3, and so on. Number of iterations should be taken from user input."
   ]
  },
  {
   "cell_type": "code",
   "execution_count": 1,
   "metadata": {},
   "outputs": [
    {
     "name": "stdout",
     "output_type": "stream",
     "text": [
      "[0, 1, 1, 2, 3, 5]\n"
     ]
    }
   ],
   "source": [
    "iteration = int(input('Enter a quantity of iterations:'))\n",
    "fibonacci_series = []\n",
    "num1 = 0\n",
    "num2 = 1\n",
    "fibonacci_series.append(num1)\n",
    "fibonacci_series.append(num2)\n",
    "\n",
    "for i in range(iteration - 2): \n",
    "\n",
    "    fibonacci_series.append(fibonacci_series[i] + fibonacci_series[i+1])\n",
    "    i+=1\n",
    "print(fibonacci_series)   \n"
   ]
  },
  {
   "cell_type": "markdown",
   "metadata": {},
   "source": [
    "### Practice section 2\n",
    "\n",
    "1. Write a program that iterated from 0 to 100 and prints out the number if it is divisible by 3.\n",
    "2. Get a number from user input and iterate from 0 to that number. \n",
    "    \n",
    "    1. Print 'foo' if the number is divisible by 3. \n",
    "    2. Print 'bar' if the number is divisible by 5. \n",
    "    3. Print 'foobar' if the number is divisible by both 3 and 5."
   ]
  },
  {
   "cell_type": "code",
   "execution_count": 2,
   "metadata": {},
   "outputs": [
    {
     "name": "stdout",
     "output_type": "stream",
     "text": [
      "0\n",
      "3\n",
      "6\n",
      "9\n",
      "12\n",
      "15\n",
      "18\n",
      "21\n",
      "24\n",
      "27\n",
      "30\n",
      "33\n",
      "36\n",
      "39\n",
      "42\n",
      "45\n",
      "48\n",
      "51\n",
      "54\n",
      "57\n",
      "60\n",
      "63\n",
      "66\n",
      "69\n",
      "72\n",
      "75\n",
      "78\n",
      "81\n",
      "84\n",
      "87\n",
      "90\n",
      "93\n",
      "96\n",
      "99\n"
     ]
    }
   ],
   "source": [
    "# 1\n",
    "for i in range(0, 101): \n",
    "    if i%3 == 0: \n",
    "        print(i)"
   ]
  },
  {
   "cell_type": "code",
   "execution_count": 3,
   "metadata": {},
   "outputs": [
    {
     "name": "stdout",
     "output_type": "stream",
     "text": [
      "number 0 :foobar\n",
      "number 3 : foo\n",
      "number 5 :bar\n",
      "number 6 : foo\n",
      "number 9 : foo\n",
      "number 10 :bar\n",
      "number 12 : foo\n",
      "number 15 :foobar\n",
      "number 18 : foo\n",
      "number 20 :bar\n",
      "number 21 : foo\n",
      "number 24 : foo\n",
      "number 25 :bar\n",
      "number 27 : foo\n",
      "number 30 :foobar\n",
      "number 33 : foo\n",
      "number 35 :bar\n",
      "number 36 : foo\n",
      "number 39 : foo\n",
      "number 40 :bar\n",
      "number 42 : foo\n",
      "number 45 :foobar\n"
     ]
    }
   ],
   "source": [
    "# 2\n",
    "\n",
    "num = int(input('Enter a number:'))\n",
    "for i in range(0, num + 1):\n",
    "    if i%3 == 0: \n",
    "        if i%5 == 0:\n",
    "            print(f'number {i} :foobar')\n",
    "        else:        \n",
    "            print(f'number {i} : foo')\n",
    "\n",
    "    elif i%5 == 0:\n",
    "        print(f'number {i} :bar')"
   ]
  },
  {
   "cell_type": "markdown",
   "metadata": {},
   "source": [
    "## Practice block 3: \n",
    "\n",
    "1. Write a function called square() with one argument of int type and returns the value of that number raised to the second power.\n",
    "2. Write a program called convert_cel_to_fahr() that takes a temperature in Celsius and returns the equivalent temperature in Fahrenheit. It should take a number as an argument from user input and return a number to the console. \n",
    "3. Write a function that implement case swapping. It should return the same result as swapcase() method. Your function should accept one str argument and convert all lower case values to upper case and vice versa. \n",
    "```python\n",
    "def swapcase(input_string: str) -> str:\n",
    "    # do something\n",
    "\n",
    "print(swapcase('HelLo')) \n",
    "> 'hELlO\n",
    "```"
   ]
  },
  {
   "cell_type": "code",
   "execution_count": 4,
   "metadata": {},
   "outputs": [
    {
     "data": {
      "text/plain": [
       "121"
      ]
     },
     "execution_count": 4,
     "metadata": {},
     "output_type": "execute_result"
    }
   ],
   "source": [
    "# 1 \n",
    "def Square(number: int) -> int:\n",
    "        return pow(number, 2)\n",
    "\n",
    "number_input = int(input('Enter a number, you would like to raise to the second power'))\n",
    "Square(number_input)"
   ]
  },
  {
   "cell_type": "code",
   "execution_count": 8,
   "metadata": {},
   "outputs": [
    {
     "data": {
      "text/plain": [
       "73.4"
      ]
     },
     "execution_count": 8,
     "metadata": {},
     "output_type": "execute_result"
    }
   ],
   "source": [
    "# 2 \n",
    "def convert_cel_to_fahr(celsius: int) -> float: \n",
    "    fahrenheit = (celsius * 9/5) + 32\n",
    "    return fahrenheit\n",
    "\n",
    "celsius_temperature = int(input('Enter temperature in Celsius that you would like to convert to Fahrenheit'))\n",
    "convert_cel_to_fahr(celsius_temperature)\n"
   ]
  },
  {
   "cell_type": "code",
   "execution_count": 1,
   "metadata": {},
   "outputs": [
    {
     "name": "stdout",
     "output_type": "stream",
     "text": [
      "mY nAmE Is yAroslAvA\n"
     ]
    }
   ],
   "source": [
    "\n",
    "string = 'My NaMe iS YaROSLaVa'\n",
    "\n",
    "def swapcase(input_string: str) -> str:\n",
    "    new_message = ''\n",
    "    for elem in input_string:\n",
    "        if elem.islower(): \n",
    "            new_message+=elem.upper()\n",
    "        else: \n",
    "            new_message += elem.lower()\n",
    "\n",
    "    return new_message\n",
    "\n",
    "print(swapcase(string))\n",
    "\n"
   ]
  }
 ],
 "metadata": {
  "kernelspec": {
   "display_name": "Python 3.7.4 32-bit",
   "language": "python",
   "name": "python3"
  },
  "language_info": {
   "codemirror_mode": {
    "name": "ipython",
    "version": 3
   },
   "file_extension": ".py",
   "mimetype": "text/x-python",
   "name": "python",
   "nbconvert_exporter": "python",
   "pygments_lexer": "ipython3",
   "version": "3.7.4"
  },
  "orig_nbformat": 4,
  "vscode": {
   "interpreter": {
    "hash": "987e006abd5cecb161978c9f14601059913dc7f2e2f97dfe45898e5fe22c1153"
   }
  }
 },
 "nbformat": 4,
 "nbformat_minor": 2
}
