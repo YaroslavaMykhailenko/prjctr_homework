{
 "cells": [
  {
   "cell_type": "markdown",
   "metadata": {},
   "source": [
    "1. Modify the Country class to include a third instance attribute called capital as a string. Store your new class in a script and test it out by adding the following code at the bottom of the script:\n",
    "```\n",
    "japan = Country('Japan', 140_000_000, 'Tokyo')\n",
    "print(f\"{japan.name} population is {japan.population} and capital is {japan.capital}.\") \n",
    "```\n",
    "The output of your script should be:\n",
    "\n",
    "Japan population is 140000000 and capital is Tokyo."
   ]
  },
  {
   "cell_type": "code",
   "execution_count": 1,
   "metadata": {},
   "outputs": [
    {
     "name": "stdout",
     "output_type": "stream",
     "text": [
      "Japan population is 140000000 and capital is Tokyo.\n"
     ]
    }
   ],
   "source": [
    "class Country:\n",
    "    def __init__(self, name, population, capital):\n",
    "        self.name = name\n",
    "        self.population = population\n",
    "        self.capital = capital\n",
    "\n",
    "    # magic method\n",
    "    def __str__(self):\n",
    "        return f\"{japan.name} population is {japan.population} and capital is {japan.capital}.\"\n",
    "\n",
    "\n",
    "japan = Country('Japan', 140_000_000, 'Tokyo')\n",
    "print(japan)\n"
   ]
  },
  {
   "cell_type": "markdown",
   "metadata": {},
   "source": [
    "2. Add increase_population method to country class. This method should take an argument and increase population of the country on this number. "
   ]
  },
  {
   "cell_type": "code",
   "execution_count": 3,
   "metadata": {},
   "outputs": [
    {
     "name": "stdout",
     "output_type": "stream",
     "text": [
      "Popolation of Japan in quantity of 140000000 was increased by 120. Current population is: 140000120\n"
     ]
    }
   ],
   "source": [
    "class Country:\n",
    "    def __init__(self, name, population, capital):\n",
    "        self.name = name\n",
    "        self.population = population\n",
    "        self.capital = capital\n",
    "\n",
    "    # magic method\n",
    "    def __str__(self):\n",
    "        return f\"{japan.name} population is {japan.population} and capital is {japan.capital}.\"\n",
    "\n",
    "    def increase_population(self, increase_value: int):\n",
    "        return f'Population of {self.name} in quantity of {self.population} was increased by {increase_value}. Current population is: {self.population + increase_value}'\n",
    "\n",
    "\n",
    "japan = Country('Japan', 140_000_000, 'Tokyo')\n",
    "print(japan.increase_population(120))\n"
   ]
  },
  {
   "cell_type": "markdown",
   "metadata": {},
   "source": [
    "3. Create add method to add two countries together. This method should create another country object with the name of the two countries combined and population of the two countries added together.\n",
    "```\n",
    "bosnia = Country('Bosnia', 10_000_000)\n",
    "herzegovina = Country('Herzegovina', 5_000_000)\n",
    "\n",
    "bosnia_herzegovina = bosnia.add(herzegovina)\n",
    "bosnia_herzegovina.population -> 15_000_000\n",
    "bosnia_herzegovina.name -> 'Bosnia Herzegovina'\n",
    "```"
   ]
  },
  {
   "cell_type": "code",
   "execution_count": 17,
   "metadata": {},
   "outputs": [
    {
     "name": "stdout",
     "output_type": "stream",
     "text": [
      "Name: Bosnia Herzegovina, Population: 15000000\n"
     ]
    }
   ],
   "source": [
    "class Country:\n",
    "    def __init__(self, name, population):\n",
    "        self.name = name\n",
    "        self.population = population\n",
    "\n",
    "    def increase_population(self, increase_value: int):\n",
    "        return f'Population of {self.name} in quantity of {self.population} was increased by {increase_value}. Current population is: {self.population + increase_value}'\n",
    "\n",
    "    def add(self, other):\n",
    "        return Country(self.name + ' ' + other.name, self.population + other.population)\n",
    "\n",
    "\n",
    "bosnia = Country('Bosnia', 10_000_000)\n",
    "herzegovina = Country('Herzegovina', 5_000_000)\n",
    "bosnia_herzegovina = bosnia.add(herzegovina)\n",
    "print(f'Name: {bosnia_herzegovina.name}, Population: {bosnia_herzegovina.population}')\n"
   ]
  },
  {
   "cell_type": "markdown",
   "metadata": {},
   "source": [
    "4. (Optional) Implement previous method with magic method"
   ]
  },
  {
   "cell_type": "code",
   "execution_count": 18,
   "metadata": {},
   "outputs": [
    {
     "name": "stdout",
     "output_type": "stream",
     "text": [
      "Name: Bosnia Herzegovina, Population: 15000000, Capital: Sarajevo\n"
     ]
    }
   ],
   "source": [
    "class Country:\n",
    "    def __init__(self, name, population, capital):\n",
    "        self.name = name\n",
    "        self.population = population\n",
    "        self.capital = capital\n",
    "\n",
    "\n",
    "    def increase_population(self, increase_value: int):\n",
    "        return f'Population of {self.name} in quantity of {self.population} was increased by {increase_value}. Current population is: {self.population + increase_value}'\n",
    "\n",
    "    # magic method\n",
    "    def __add__(self, other):\n",
    "        return Country(self.name + ' ' + other.name, self.population + other.population, self.capital)\n",
    "        \n",
    "\n",
    "bosnia = Country('Bosnia', 10_000_000, 'Sarajevo')\n",
    "herzegovina = Country('Herzegovina', 5_000_000, 'Sarajevo')\n",
    "bosnia_herzegovina = bosnia + herzegovina\n",
    "print(f'Name: {bosnia_herzegovina.name}, Population: {bosnia_herzegovina.population}, Capital: {bosnia_herzegovina.capital}')\n"
   ]
  }
 ],
 "metadata": {
  "kernelspec": {
   "display_name": "Python 3.7.4 32-bit",
   "language": "python",
   "name": "python3"
  },
  "language_info": {
   "codemirror_mode": {
    "name": "ipython",
    "version": 3
   },
   "file_extension": ".py",
   "mimetype": "text/x-python",
   "name": "python",
   "nbconvert_exporter": "python",
   "pygments_lexer": "ipython3",
   "version": "3.7.4"
  },
  "orig_nbformat": 4,
  "vscode": {
   "interpreter": {
    "hash": "987e006abd5cecb161978c9f14601059913dc7f2e2f97dfe45898e5fe22c1153"
   }
  }
 },
 "nbformat": 4,
 "nbformat_minor": 2
}
