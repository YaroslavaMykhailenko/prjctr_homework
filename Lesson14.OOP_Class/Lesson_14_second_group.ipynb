{
  "cells": [
    {
      "cell_type": "markdown",
      "metadata": {
        "id": "OEbzRXMihtbs"
      },
      "source": [
        "# Object-oriented programming \n",
        "\n",
        "\n",
        "OOP, or Object-Oriented Programming, is a method of structuring a program by bundling related properties and behaviors into individual objects."
      ]
    },
    {
      "cell_type": "markdown",
      "metadata": {
        "id": "WuOVyCfChtb2"
      },
      "source": [
        "## Class"
      ]
    },
    {
      "cell_type": "code",
      "execution_count": null,
      "metadata": {
        "id": "tXcJC-TYhtb4"
      },
      "outputs": [],
      "source": [
        "ukraine = ['Kyiv', 42_000_000, 603_000, 'The capital of Ukraine is Kyiv']\n",
        "poland = ['Warsaw', 38_000_000, 312_000, 'The capital of Poland is Warsaw']\n",
        "france = ['Paris', 67_000_000, 592_000, 'The capital of France is Paris']\n",
        "usa = ['Washington', 520_000_000, 5_500_000, 'The capital of USA is Washington']"
      ]
    },
    {
      "cell_type": "code",
      "execution_count": null,
      "metadata": {
        "id": "m_b8EMJFhtb7",
        "outputId": "c95dbf43-8493-4773-ca50-066c6133ffe5"
      },
      "outputs": [
        {
          "data": {
            "text/plain": [
              "'Warsaw'"
            ]
          },
          "execution_count": 2,
          "metadata": {},
          "output_type": "execute_result"
        }
      ],
      "source": [
        "poland[0]"
      ]
    },
    {
      "cell_type": "markdown",
      "metadata": {
        "id": "krhipjIuhtb9"
      },
      "source": [
        "## What is the class?\n",
        "\n",
        "Classes are used to create user-defined data structures. Classes also have special functions, called methods, that define behaviors and actions that an object created from the class can perform with its data.\n",
        "\n",
        "### Class vs instance\n",
        "\n",
        "\n",
        "\n",
        "1. Class\n",
        "2. Methods\n",
        "3. Instance\n"
      ]
    },
    {
      "cell_type": "code",
      "execution_count": null,
      "metadata": {
        "id": "G5PD0Ipbhtb-"
      },
      "outputs": [],
      "source": [
        "class Country:\n",
        "    pass"
      ]
    },
    {
      "cell_type": "code",
      "execution_count": null,
      "metadata": {
        "id": "R1v3ghk0htcA"
      },
      "outputs": [],
      "source": [
        "c = Country()"
      ]
    },
    {
      "cell_type": "code",
      "execution_count": null,
      "metadata": {
        "id": "NX3UzofmhtcD",
        "outputId": "0c193b7a-9e69-4c2e-895e-b0f2b4041c16"
      },
      "outputs": [
        {
          "data": {
            "text/plain": [
              "__main__.Country"
            ]
          },
          "execution_count": 7,
          "metadata": {},
          "output_type": "execute_result"
        }
      ],
      "source": [
        "type(c)"
      ]
    },
    {
      "cell_type": "code",
      "execution_count": null,
      "metadata": {
        "id": "c4P2bEfJhtcK"
      },
      "outputs": [],
      "source": []
    },
    {
      "cell_type": "code",
      "execution_count": null,
      "metadata": {
        "id": "CI_0xpv6htcL"
      },
      "outputs": [],
      "source": [
        "class Country:\n",
        "    # adding custom attributes\n",
        "    def __init__(self, name: str, population: int):\n",
        "        self.name = name\n",
        "        self.population = population\n",
        "\n",
        "portugal = Country('Portugal', 10_000_000)"
      ]
    },
    {
      "cell_type": "code",
      "execution_count": null,
      "metadata": {
        "id": "GIIuMdMLhtcM"
      },
      "outputs": [],
      "source": [
        "# with open('file.csv', 'r') as f:\n",
        "#     for name, population in f:\n",
        "#         country = Country(name=name, population=population)"
      ]
    },
    {
      "cell_type": "code",
      "execution_count": null,
      "metadata": {
        "id": "hGfSZu89htcN",
        "outputId": "2496f609-a780-43f2-ad45-45d13a3ddfaf"
      },
      "outputs": [
        {
          "name": "stdout",
          "output_type": "stream",
          "text": [
            "None\n"
          ]
        }
      ],
      "source": [
        "print(portugal.population)"
      ]
    },
    {
      "cell_type": "code",
      "execution_count": null,
      "metadata": {
        "id": "AXn82dsohtcO",
        "outputId": "46fb62ae-f6df-4a9e-f928-a18a83074de4"
      },
      "outputs": [
        {
          "name": "stdout",
          "output_type": "stream",
          "text": [
            "123\n"
          ]
        }
      ],
      "source": [
        "portugal.some_attr = '123'\n",
        "\n",
        "print(portugal.some_attr)"
      ]
    },
    {
      "cell_type": "code",
      "execution_count": null,
      "metadata": {
        "id": "g2gHVjYnhtcP",
        "outputId": "f0eba7d3-32a1-4d20-87b7-85e0804df6f8"
      },
      "outputs": [
        {
          "data": {
            "text/plain": [
              "True"
            ]
          },
          "execution_count": 31,
          "metadata": {},
          "output_type": "execute_result"
        }
      ],
      "source": [
        "hasattr(portugal, 'name')"
      ]
    },
    {
      "cell_type": "code",
      "execution_count": null,
      "metadata": {
        "id": "q-6Nq0nzhtcP",
        "outputId": "00814e07-6e6a-4ccf-999f-12dc2486183a"
      },
      "outputs": [
        {
          "name": "stdout",
          "output_type": "stream",
          "text": [
            "Portugal 10000000 123\n"
          ]
        }
      ],
      "source": [
        "print(portugal.name, portugal.population, portugal.some_attr)"
      ]
    },
    {
      "cell_type": "code",
      "execution_count": null,
      "metadata": {
        "id": "F2akiWm9htcQ"
      },
      "outputs": [],
      "source": [
        "andora = Country('Andora', 100_000)"
      ]
    },
    {
      "cell_type": "code",
      "execution_count": null,
      "metadata": {
        "id": "zv2iqfq-htcQ",
        "outputId": "7307897f-dbfc-4ecb-8338-36b35d34e332"
      },
      "outputs": [
        {
          "ename": "AttributeError",
          "evalue": "'Country' object has no attribute 'some_attr'",
          "output_type": "error",
          "traceback": [
            "\u001b[0;31m---------------------------------------------------------------------------\u001b[0m",
            "\u001b[0;31mAttributeError\u001b[0m                            Traceback (most recent call last)",
            "\u001b[0;32m/var/folders/2y/fwkg4hxs6sv3hs3cyysgs0yw0000gn/T/ipykernel_66564/1427263629.py\u001b[0m in \u001b[0;36m<module>\u001b[0;34m\u001b[0m\n\u001b[0;32m----> 1\u001b[0;31m \u001b[0mandora\u001b[0m\u001b[0;34m.\u001b[0m\u001b[0msome_attr\u001b[0m\u001b[0;34m\u001b[0m\u001b[0;34m\u001b[0m\u001b[0m\n\u001b[0m",
            "\u001b[0;31mAttributeError\u001b[0m: 'Country' object has no attribute 'some_attr'"
          ]
        }
      ],
      "source": [
        "andora.some_attr"
      ]
    },
    {
      "cell_type": "code",
      "execution_count": null,
      "metadata": {
        "id": "dVKWkwHkhtcR",
        "outputId": "52bd6c68-4e25-4cbf-883a-ea207746e2db"
      },
      "outputs": [
        {
          "name": "stdout",
          "output_type": "stream",
          "text": [
            "False\n"
          ]
        }
      ],
      "source": [
        "class Country:\n",
        "    pass\n",
        "\n",
        "c1 = Country()\n",
        "c2 = Country()\n",
        "print(c1 == c2)"
      ]
    },
    {
      "cell_type": "code",
      "execution_count": null,
      "metadata": {
        "id": "OhExJoOIhtcR",
        "outputId": "1e84b5d7-1c2b-4450-9d39-6119b290b4cf"
      },
      "outputs": [
        {
          "data": {
            "text/plain": [
              "<__main__.Country at 0x104fe4070>"
            ]
          },
          "execution_count": 35,
          "metadata": {},
          "output_type": "execute_result"
        }
      ],
      "source": [
        "c1"
      ]
    },
    {
      "cell_type": "code",
      "execution_count": null,
      "metadata": {
        "id": "4CuKGwwhhtcS",
        "outputId": "c4620bcb-52dd-431c-fc83-91207f591fe3"
      },
      "outputs": [
        {
          "data": {
            "text/plain": [
              "<__main__.Country at 0x104fe49d0>"
            ]
          },
          "execution_count": 36,
          "metadata": {},
          "output_type": "execute_result"
        }
      ],
      "source": [
        "c2"
      ]
    },
    {
      "cell_type": "markdown",
      "metadata": {
        "id": "C4wkMBExhtcT"
      },
      "source": [
        "### Class and instance attributes"
      ]
    },
    {
      "cell_type": "code",
      "execution_count": null,
      "metadata": {
        "id": "FawM9n2uhtcT"
      },
      "outputs": [],
      "source": [
        "class Country:\n",
        "    x = 'distinct territorial body, a state, nation, or other political entity'\n",
        "    y = 123\n",
        "    # adding custom attributes\n",
        "    def __init__(self: 'Country', name: str, population: int):\n",
        "        self.name = name\n",
        "        self.population = population\n",
        "        self.big = population > 100_000_000"
      ]
    },
    {
      "cell_type": "code",
      "execution_count": null,
      "metadata": {
        "id": "kNTifCrThtcT"
      },
      "outputs": [],
      "source": [
        "spain = Country('Spain', 46_000_000)"
      ]
    },
    {
      "cell_type": "code",
      "execution_count": null,
      "metadata": {
        "id": "KG0_MdthhtcU"
      },
      "outputs": [],
      "source": [
        "spain.x = 'Something'"
      ]
    },
    {
      "cell_type": "code",
      "execution_count": null,
      "metadata": {
        "id": "V31kAkgwhtcU",
        "outputId": "178df5e7-d586-427e-9dc1-b6b49734a11d"
      },
      "outputs": [
        {
          "data": {
            "text/plain": [
              "'Something'"
            ]
          },
          "execution_count": 44,
          "metadata": {},
          "output_type": "execute_result"
        }
      ],
      "source": [
        "spain.x"
      ]
    },
    {
      "cell_type": "code",
      "execution_count": null,
      "metadata": {
        "id": "KTdovpeZhtcU"
      },
      "outputs": [],
      "source": [
        "c = Country('Colombia', 53_000_000)"
      ]
    },
    {
      "cell_type": "code",
      "execution_count": null,
      "metadata": {
        "id": "zY4hKN8YhtcV",
        "outputId": "7fc2ef6c-41e2-4c94-92ca-6c0af4765872"
      },
      "outputs": [
        {
          "data": {
            "text/plain": [
              "'distinct territorial body, a state, nation, or other political entity'"
            ]
          },
          "execution_count": 42,
          "metadata": {},
          "output_type": "execute_result"
        }
      ],
      "source": [
        "c.x"
      ]
    },
    {
      "cell_type": "code",
      "execution_count": null,
      "metadata": {
        "id": "N2e7L1ZThtcV"
      },
      "outputs": [],
      "source": [
        "c.y = 124\n",
        "\n",
        "c.s = 'rq'"
      ]
    },
    {
      "cell_type": "code",
      "execution_count": null,
      "metadata": {
        "id": "p833Bp-LhtcV"
      },
      "outputs": [],
      "source": [
        "c.s"
      ]
    },
    {
      "cell_type": "code",
      "execution_count": null,
      "metadata": {
        "id": "yZ8XNw-WhtcW"
      },
      "outputs": [],
      "source": [
        "spain.s"
      ]
    },
    {
      "cell_type": "code",
      "execution_count": null,
      "metadata": {
        "id": "q8Mj7P7HhtcW"
      },
      "outputs": [],
      "source": [
        "spain.description"
      ]
    },
    {
      "cell_type": "code",
      "execution_count": null,
      "metadata": {
        "id": "OFe8b1Q3htcW"
      },
      "outputs": [],
      "source": [
        "print('country:', spain)\n",
        "print('name:', spain.name)\n",
        "print('population:', spain.population)\n",
        "print('description:', spain.description)"
      ]
    },
    {
      "cell_type": "markdown",
      "metadata": {
        "id": "fBXGkZHUhtcX"
      },
      "source": [
        "#### Instance method"
      ]
    },
    {
      "cell_type": "code",
      "execution_count": null,
      "metadata": {
        "id": "NCuXgXsghtcX"
      },
      "outputs": [],
      "source": [
        "\n",
        "class Country:\n",
        "    def __init__(self, name, population):\n",
        "        self.name = name\n",
        "        self.population = population\n",
        "\n",
        "    # instance method\n",
        "    def description(self):\n",
        "        return f'The population of {self.name} is {self.population}'\n",
        "\n",
        "    # instance with a parameter\n",
        "    def make_declaration(self, speech: str):\n",
        "        print(f'!!!!!!!!!!!!!!!!!!!!!!!!!!')\n",
        "        \n",
        "        return f'{self.name} declare: {speech}'\n",
        "\n"
      ]
    },
    {
      "cell_type": "code",
      "execution_count": null,
      "metadata": {
        "id": "VdIRuClShtcX",
        "outputId": "852e6e51-2c95-4e65-dd15-f90768a48b99"
      },
      "outputs": [
        {
          "name": "stdout",
          "output_type": "stream",
          "text": [
            "!!!!!!!!!!!!!!!!!!!!!!!!!!\n",
            "Argentina declare: We declare independence!\n"
          ]
        }
      ],
      "source": [
        "argentina = Country('Argentina', 43_000_000)\n",
        "# print(f'description of Argentina: {argentina.description()}')\n",
        "print(argentina.make_declaration('We declare independence!'))"
      ]
    },
    {
      "cell_type": "markdown",
      "metadata": {
        "id": "igKeICWghtcY"
      },
      "source": [
        "### Classmethod and staticmethod"
      ]
    },
    {
      "cell_type": "code",
      "execution_count": null,
      "metadata": {
        "id": "HM9rsaaGhtcY"
      },
      "outputs": [],
      "source": [
        "class Country:\n",
        "    def __init__(self, name, population):\n",
        "        self.name = name\n",
        "        self.population = population\n",
        "\n",
        "    @classmethod\n",
        "    def create_million_country(cls, name = 'Standard name'):\n",
        "\n",
        "        instance = cls(name, 1_000_000)\n",
        "        return instance\n",
        "    \n",
        "    @classmethod\n",
        "    def read_countries_from_file(cls, filename):\n",
        "        instances = []\n",
        "        with open(filename) as file:\n",
        "            for row in file:\n",
        "                instances.append(cls(name=row[0], population=row[1]))\n",
        "\n",
        "        return instances\n",
        "\n",
        "    @staticmethod\n",
        "    def create_great_speech(speech):\n",
        "        return f'Said: {speech} with gratitude'\n",
        "\n",
        "    @property\n",
        "    def population_in_millions(self):\n",
        "        return self.population / 1_000_000\n",
        "\n",
        "    def description(self):\n",
        "        return f'The population of {self.name} is {self.population}'\n"
      ]
    },
    {
      "cell_type": "code",
      "execution_count": null,
      "metadata": {
        "id": "AnaqiDIQhtcZ",
        "outputId": "78a7f515-c0e7-4cf8-d7ed-7fb8c0741b35"
      },
      "outputs": [
        {
          "name": "stdout",
          "output_type": "stream",
          "text": [
            "columbia.population 1000000\n",
            "population_in_milions 1.0\n"
          ]
        }
      ],
      "source": [
        "columbia = Country.create_million_country('Columbia')\n",
        "\n",
        "# print(Country.create_great_speech('Some Speech'))\n",
        "print('columbia.population', columbia.population)\n",
        "# print('is_million_country:', Country.is_million_country(columbia.population))\n",
        "print('population_in_milions', columbia.population_in_millions)"
      ]
    },
    {
      "cell_type": "code",
      "execution_count": null,
      "metadata": {
        "id": "imKyDxightcZ"
      },
      "outputs": [],
      "source": [
        "countries = [Country('name1', 10000), Country('name2', 10000)]"
      ]
    },
    {
      "cell_type": "code",
      "execution_count": null,
      "metadata": {
        "id": "wVVhTBD4htca",
        "outputId": "f5ddc4f5-06b4-4b75-911e-385ceb71a794"
      },
      "outputs": [
        {
          "data": {
            "text/plain": [
              "'name1'"
            ]
          },
          "execution_count": 59,
          "metadata": {},
          "output_type": "execute_result"
        }
      ],
      "source": [
        "some_country = countries[0]"
      ]
    },
    {
      "cell_type": "markdown",
      "metadata": {
        "id": "gfvyg2T9htca"
      },
      "source": [
        "### Private method"
      ]
    },
    {
      "cell_type": "code",
      "execution_count": null,
      "metadata": {
        "id": "ln3cXjcbhtca"
      },
      "outputs": [],
      "source": [
        "class Country:\n",
        "    def __init__(self, gdp):\n",
        "        self._gdp = gdp\n",
        "\n",
        "    def get_gdp(self):\n",
        "        return self._gdp\n",
        "    \n",
        "    def set_gdp(self, new_value):\n",
        "        if new_value > self._gdp:\n",
        "            self._gdp = new_value"
      ]
    },
    {
      "cell_type": "code",
      "execution_count": null,
      "metadata": {
        "id": "Q9KBFJpAhtcb",
        "outputId": "18531a20-f1c0-477e-b435-2b1203f529f1"
      },
      "outputs": [
        {
          "name": "stdout",
          "output_type": "stream",
          "text": [
            "_gdp: 4000\n",
            "_get_gdp: 4000\n"
          ]
        }
      ],
      "source": [
        "c = Country(4_000)\n",
        "print('_gdp:', c._gdp)\n",
        "print('_get_gdp:', c.get_gdp())"
      ]
    },
    {
      "cell_type": "code",
      "execution_count": null,
      "metadata": {
        "id": "zpQy5z4ahtcb",
        "outputId": "b778ba6e-f6ba-4466-a93d-8457e95b232b"
      },
      "outputs": [
        {
          "name": "stdout",
          "output_type": "stream",
          "text": [
            "2000\n"
          ]
        }
      ],
      "source": [
        "c._gdp = 2000\n",
        "print(c._gdp)"
      ]
    },
    {
      "cell_type": "code",
      "execution_count": null,
      "metadata": {
        "id": "t76-myprhtcb"
      },
      "outputs": [],
      "source": [
        "class Country:\n",
        "    def __init__(self, gdp):\n",
        "        self.__gdp = gdp\n",
        "\n",
        "    def get_gdp(self):\n",
        "        return self.__gdp\n",
        "\n",
        "    def double_gdp(self):\n",
        "        self.__gdp * 2"
      ]
    },
    {
      "cell_type": "code",
      "execution_count": null,
      "metadata": {
        "id": "DlInJLmnhtcb"
      },
      "outputs": [],
      "source": []
    },
    {
      "cell_type": "code",
      "execution_count": null,
      "metadata": {
        "id": "2m6roESChtcc",
        "outputId": "58da3e26-293c-4197-904e-16ac8a78505f"
      },
      "outputs": [
        {
          "name": "stdout",
          "output_type": "stream",
          "text": [
            "_get_gdp: 40000\n"
          ]
        }
      ],
      "source": [
        "c = Country(40_000)\n",
        "# print('_gdp:', c.__gdp)\n",
        "# print(dir(c))\n",
        "print('_get_gdp:', c.get_gdp())"
      ]
    },
    {
      "cell_type": "code",
      "execution_count": null,
      "metadata": {
        "id": "Wc3UbbWDhtcc"
      },
      "outputs": [],
      "source": [
        "# How to close access properly\n",
        "\n",
        "class Country:\n",
        "    def __init__(self, gdp):\n",
        "        self.__gdp = gdp\n",
        "\n",
        "    def _get_gdp(self):\n",
        "        return self.__gdp\n",
        "    \n",
        "    def get_gdp(self):\n",
        "        return self.__gdp\n"
      ]
    },
    {
      "cell_type": "markdown",
      "metadata": {
        "id": "PsM_l1xYhtcc"
      },
      "source": [
        "#### Magic methods"
      ]
    },
    {
      "cell_type": "code",
      "execution_count": null,
      "metadata": {
        "id": "GWkYWEhbhtcc"
      },
      "outputs": [],
      "source": [
        "class Country:\n",
        "    def __init__(self, name, population):\n",
        "        self.name = name\n",
        "        self.population = population\n",
        "\n",
        "    # magic method\n",
        "    def __str__(self):\n",
        "        return f'Country: {self.name} with population {self.population}'\n"
      ]
    },
    {
      "cell_type": "code",
      "execution_count": null,
      "metadata": {
        "id": "9wqy3uJEhtcc",
        "outputId": "1f6218b9-d3a0-4519-90aa-113c2e43615f"
      },
      "outputs": [
        {
          "name": "stdout",
          "output_type": "stream",
          "text": [
            "cuba: Country: Cuba with population 11000000\n"
          ]
        }
      ],
      "source": [
        "cuba = Country('Cuba', 11_000_000)\n",
        "print('cuba:', cuba)\n"
      ]
    },
    {
      "cell_type": "code",
      "execution_count": null,
      "metadata": {
        "id": "MRCBH6l8htcd"
      },
      "outputs": [],
      "source": [
        "class Country:\n",
        "    def __init__(self, name, population):\n",
        "        self.name = name\n",
        "        self.population = population\n",
        "\n",
        "    # magic method\n",
        "    def __str__(self):\n",
        "        return f'Country: {self.name} with population {self.population}'\n",
        "\n",
        "    def __eq__(self, other):\n",
        "        print(self.name, self.population)\n",
        "        print(other.name, other.population)\n",
        "        return self.population == other.population\n"
      ]
    },
    {
      "cell_type": "code",
      "execution_count": null,
      "metadata": {
        "id": "aQmcYh6ihtcd",
        "outputId": "53de4b4a-510b-471c-9292-89dc6e9c3e84"
      },
      "outputs": [
        {
          "name": "stdout",
          "output_type": "stream",
          "text": [
            "Cuba1 11000000\n",
            "Cuba2 11000000\n",
            "True\n"
          ]
        }
      ],
      "source": [
        "cuba1 = Country('Cuba1', 11_000_000)\n",
        "cuba2 = Country('Cuba2', 11_000_000)\n",
        "\n",
        "\n",
        "cuba3 = cuba1 + cuba2"
      ]
    },
    {
      "cell_type": "code",
      "execution_count": null,
      "metadata": {
        "id": "BcRdxB_Khtcd",
        "outputId": "58bf566c-83e3-4786-893d-e69932212c22"
      },
      "outputs": [
        {
          "data": {
            "text/plain": [
              "['__abs__',\n",
              " '__add__',\n",
              " '__and__',\n",
              " '__bool__',\n",
              " '__ceil__',\n",
              " '__class__',\n",
              " '__delattr__',\n",
              " '__dir__',\n",
              " '__divmod__',\n",
              " '__doc__',\n",
              " '__eq__',\n",
              " '__float__',\n",
              " '__floor__',\n",
              " '__floordiv__',\n",
              " '__format__',\n",
              " '__ge__',\n",
              " '__getattribute__',\n",
              " '__getnewargs__',\n",
              " '__gt__',\n",
              " '__hash__',\n",
              " '__index__',\n",
              " '__init__',\n",
              " '__init_subclass__',\n",
              " '__int__',\n",
              " '__invert__',\n",
              " '__le__',\n",
              " '__lshift__',\n",
              " '__lt__',\n",
              " '__mod__',\n",
              " '__mul__',\n",
              " '__ne__',\n",
              " '__neg__',\n",
              " '__new__',\n",
              " '__or__',\n",
              " '__pos__',\n",
              " '__pow__',\n",
              " '__radd__',\n",
              " '__rand__',\n",
              " '__rdivmod__',\n",
              " '__reduce__',\n",
              " '__reduce_ex__',\n",
              " '__repr__',\n",
              " '__rfloordiv__',\n",
              " '__rlshift__',\n",
              " '__rmod__',\n",
              " '__rmul__',\n",
              " '__ror__',\n",
              " '__round__',\n",
              " '__rpow__',\n",
              " '__rrshift__',\n",
              " '__rshift__',\n",
              " '__rsub__',\n",
              " '__rtruediv__',\n",
              " '__rxor__',\n",
              " '__setattr__',\n",
              " '__sizeof__',\n",
              " '__str__',\n",
              " '__sub__',\n",
              " '__subclasshook__',\n",
              " '__truediv__',\n",
              " '__trunc__',\n",
              " '__xor__',\n",
              " 'as_integer_ratio',\n",
              " 'bit_length',\n",
              " 'conjugate',\n",
              " 'denominator',\n",
              " 'from_bytes',\n",
              " 'imag',\n",
              " 'numerator',\n",
              " 'real',\n",
              " 'to_bytes']"
            ]
          },
          "execution_count": 75,
          "metadata": {},
          "output_type": "execute_result"
        }
      ],
      "source": [
        "# list of magic methods\n",
        "dir(int)"
      ]
    },
    {
      "cell_type": "code",
      "execution_count": null,
      "metadata": {
        "id": "xCinNTHqhtcd"
      },
      "outputs": [],
      "source": [
        "## Magic methods for equality"
      ]
    },
    {
      "cell_type": "markdown",
      "metadata": {
        "id": "j_IgJOzkhtce"
      },
      "source": [
        "### Practice\n",
        "\n",
        "1. Modify the Country class to include a third instance attribute called capital as a string. Store your new class in a script and test it out by adding the following code at the bottom of the script:\n",
        "```\n",
        "japan = Country('Japan', 140_000_000, 'Tokyo')\n",
        "print(f\"{japan.name} population is {japan.population} and capital is {japan.capital}.\") \n",
        "```\n",
        "The output of your script should be:\n",
        "\n",
        "Japan population is 140000000 and capital is Tokyo.\n",
        "\n",
        "2. Add increase_population method to country class. This method should take an argument and increase population of the country on this number. \n",
        "\n",
        "3. Create add method to add two countries together. This method should create another country object with the name of the two countries combined and population of the two countries added together.\n",
        "```\n",
        "bosnia = Country('Bosnia', 10_000_000)\n",
        "herzegovina = Country('Herzegovina', 5_000_000)\n",
        "\n",
        "bosnia_herzegovina = bosnia.add(herzegovina)\n",
        "bosnia_herzegovina.population -> 15_000_000\n",
        "bosnia_herzegovina.name -> 'Bosnia Herzegovina'\n",
        "```\n",
        "\n",
        "4. (Optional) Implement previous method with magic method\n",
        "\n",
        "```\n",
        "bosnia = Country('Bosnia', 10_000_000)\n",
        "herzegovina = Country('Herzegovina', 5_000_000)\n",
        "\n",
        "bosnia_herzegovina = bosnia + herzegovina\n",
        "bosnia_herzegovina.population -> 15_000_000\n",
        "bosnia_herzegovina.name -> 'Bosnia Herzegovina'\n",
        "```"
      ]
    }
  ],
  "metadata": {
    "colab": {
      "provenance": []
    },
    "kernelspec": {
      "display_name": "Python 3.7.4 32-bit",
      "language": "python",
      "name": "python3"
    },
    "language_info": {
      "codemirror_mode": {
        "name": "ipython",
        "version": 3
      },
      "file_extension": ".py",
      "mimetype": "text/x-python",
      "name": "python",
      "nbconvert_exporter": "python",
      "pygments_lexer": "ipython3",
      "version": "3.7.4"
    },
    "orig_nbformat": 4,
    "vscode": {
      "interpreter": {
        "hash": "987e006abd5cecb161978c9f14601059913dc7f2e2f97dfe45898e5fe22c1153"
      }
    }
  },
  "nbformat": 4,
  "nbformat_minor": 0
}
